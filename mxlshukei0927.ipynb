{
 "cells": [
  {
   "cell_type": "code",
   "execution_count": 182,
   "metadata": {
    "ExecuteTime": {
     "end_time": "2018-09-27T22:31:07.607329Z",
     "start_time": "2018-09-27T22:31:07.573415Z"
    },
    "collapsed": true
   },
   "outputs": [],
   "source": [
    "from collections import Counter"
   ]
  },
  {
   "cell_type": "code",
   "execution_count": 130,
   "metadata": {
    "ExecuteTime": {
     "end_time": "2018-09-27T21:21:19.585057Z",
     "start_time": "2018-09-27T21:21:19.570209Z"
    },
    "collapsed": false
   },
   "outputs": [],
   "source": [
    "import music21 as m21\n",
    "\n",
    "from music21 import *\n"
   ]
  },
  {
   "cell_type": "code",
   "execution_count": 230,
   "metadata": {
    "ExecuteTime": {
     "end_time": "2018-09-28T00:56:16.880315Z",
     "start_time": "2018-09-28T00:56:15.475206Z"
    },
    "collapsed": true
   },
   "outputs": [],
   "source": [
    "import numpy as np\n",
    "import pandas as pd"
   ]
  },
  {
   "cell_type": "code",
   "execution_count": 305,
   "metadata": {
    "ExecuteTime": {
     "end_time": "2018-09-28T10:16:42.332710Z",
     "start_time": "2018-09-28T10:16:42.303944Z"
    },
    "collapsed": true
   },
   "outputs": [],
   "source": [
    "import matplotlib.pylab as plt"
   ]
  },
  {
   "cell_type": "code",
   "execution_count": 152,
   "metadata": {
    "ExecuteTime": {
     "end_time": "2018-09-27T21:31:17.289968Z",
     "start_time": "2018-09-27T21:31:17.243371Z"
    },
    "collapsed": true
   },
   "outputs": [],
   "source": [
    "piece = m21.converter.parse(\"./roman.xml\")\n",
    "vocal = piece.parts[0]"
   ]
  },
  {
   "cell_type": "code",
   "execution_count": 153,
   "metadata": {
    "ExecuteTime": {
     "end_time": "2018-09-27T21:31:17.774077Z",
     "start_time": "2018-09-27T21:31:17.750534Z"
    },
    "collapsed": false
   },
   "outputs": [
    {
     "name": "stdout",
     "output_type": "stream",
     "text": [
      "\n",
      "hoge\n",
      "{0.0} <music21.instrument.Instrument P1: Synth Pad: Microsoft GS Wavetable Synth>\n",
      "{0.0} <music21.stream.Measure 1 offset=0.0>\n",
      "    {0.0} <music21.layout.SystemLayout>\n",
      "    {0.0} <music21.clef.TrebleClef>\n",
      "    {0.0} <music21.tempo.MetronomeMark allegro Quarter=132.0>\n",
      "    {0.0} <music21.key.KeySignature of 5 sharps>\n",
      "    {0.0} <music21.meter.TimeSignature 4/4>\n",
      "    {0.0} <music21.note.Rest rest>\n",
      "    {2.0} <music21.note.Note D#>\n",
      "    {2.5} <music21.note.Note E>\n",
      "    {3.0} <music21.note.Note F#>\n",
      "    {3.5} <music21.note.Note F#>\n",
      "{4.0} <music21.stream.Measure 2 offset=4.0>\n",
      "    {0.0} <music21.note.Note F#>\n",
      "    {0.5} <music21.note.Note F#>\n",
      "    {1.0} <music21.note.Note F#>\n",
      "    {1.5} <music21.note.Note F#>\n",
      "    {2.0} <music21.note.Note G#>\n",
      "    {3.0} <music21.note.Note F#>\n",
      "    {3.5} <music21.note.Note F#>\n",
      "{8.0} <music21.stream.Measure 3 offset=8.0>\n",
      "    {0.0} <music21.note.Note B>\n",
      "    {0.5} <music21.note.Note B>\n",
      "    {1.0} <music21.note.Rest rest>\n",
      "    {1.5} <music21.note.Note B>\n",
      "    {2.0} <music21.note.Note B>\n",
      "    {2.5} <music21.note.Note C#>\n",
      "    {3.0} <music21.note.Note B>\n",
      "    {3.5} <music21.note.Note D#>\n",
      "{12.0} <music21.stream.Measure 4 offset=12.0>\n",
      "    {0.0} <music21.layout.SystemLayout>\n",
      "    {0.0} <music21.note.Note D#>\n",
      "    {1.0} <music21.note.Note C#>\n",
      "    {2.0} <music21.note.Note B>\n",
      "    {2.5} <music21.note.Note C#>\n",
      "    {3.0} <music21.note.Note B>\n",
      "    {3.5} <music21.note.Note D#>\n",
      "{16.0} <music21.stream.Measure 5 offset=16.0>\n",
      "    {0.0} <music21.note.Note D#>\n",
      "    {1.0} <music21.note.Rest rest>\n",
      "    {1.5} <music21.note.Note D#>\n",
      "    {2.0} <music21.note.Note D#>\n",
      "    {2.5} <music21.note.Note E>\n",
      "    {3.0} <music21.note.Note F#>\n",
      "    {3.5} <music21.note.Note F#>\n",
      "{20.0} <music21.stream.Measure 6 offset=20.0>\n",
      "    {0.0} <music21.note.Note F#>\n",
      "    {1.0} <music21.note.Note F#>\n",
      "    {1.5} <music21.note.Note F#>\n",
      "    {2.0} <music21.note.Note G#>\n",
      "    {2.5} <music21.note.Note F#>\n",
      "    {3.0} <music21.note.Note G#>\n",
      "    {3.5} <music21.note.Note B>\n",
      "{24.0} <music21.stream.Measure 7 offset=24.0>\n",
      "    {0.0} <music21.layout.SystemLayout>\n",
      "    {0.0} <music21.note.Note B>\n",
      "    {0.5} <music21.note.Note G#>\n",
      "    {1.5} <music21.note.Rest rest>\n",
      "    {2.5} <music21.note.Note F#>\n",
      "    {3.0} <music21.note.Note G#>\n",
      "    {3.5} <music21.note.Note B>\n",
      "{28.0} <music21.stream.Measure 8 offset=28.0>\n",
      "    {0.0} <music21.note.Note B>\n",
      "    {0.5} <music21.note.Note B>\n",
      "    {1.0} <music21.note.Note C#>\n",
      "    {1.5} <music21.note.Note B>\n",
      "    {2.0} <music21.note.Note D#>\n",
      "    {2.5} <music21.note.Note C#>\n",
      "    {3.0} <music21.note.Note B>\n",
      "    {3.5} <music21.note.Rest rest>\n",
      "{32.0} <music21.stream.Measure 9 offset=32.0>\n",
      "    {0.0} <music21.note.Rest rest>\n",
      "    {1.0} <music21.note.Note D#>\n",
      "    {1.5} <music21.note.Note D#>\n",
      "    {2.0} <music21.note.Note F#>\n",
      "    {2.5} <music21.note.Note D#>\n",
      "    {3.0} <music21.note.Note C#>\n",
      "    {3.5} <music21.note.Note B>\n",
      "{36.0} <music21.stream.Measure 10 offset=36.0>\n",
      "    {0.0} <music21.layout.SystemLayout>\n",
      "    {0.0} <music21.note.Note B>\n",
      "{40.0} <music21.stream.Measure 11 offset=40.0>\n",
      "    {0.0} <music21.note.Rest rest>\n",
      "    {1.0} <music21.note.Note D#>\n",
      "    {1.5} <music21.note.Note D#>\n",
      "    {2.0} <music21.note.Note F#>\n",
      "    {2.5} <music21.note.Note D#>\n",
      "    {3.0} <music21.note.Note F#>\n",
      "    {3.5} <music21.note.Note B>\n",
      "{44.0} <music21.stream.Measure 12 offset=44.0>\n",
      "    {0.0} <music21.note.Note B>\n",
      "    {0.5} <music21.note.Note G#>\n",
      "    {2.5} <music21.note.Note G#>\n",
      "{48.0} <music21.stream.Measure 13 offset=48.0>\n",
      "    {0.0} <music21.layout.PageLayout>\n",
      "    {0.0} <music21.layout.SystemLayout>\n",
      "    {0.0} <music21.note.Rest rest>\n",
      "    {1.0} <music21.note.Note D#>\n",
      "    {1.5} <music21.note.Note D#>\n",
      "    {2.0} <music21.note.Note F#>\n",
      "    {2.5} <music21.note.Note D#>\n",
      "    {3.0} <music21.note.Note F#>\n",
      "    {3.5} <music21.note.Note B>\n",
      "{52.0} <music21.stream.Measure 14 offset=52.0>\n",
      "    {0.0} <music21.note.Note B>\n",
      "    {0.5} <music21.note.Note B>\n",
      "    {1.0} <music21.note.Note A#>\n",
      "    {1.5} <music21.note.Note G#>\n",
      "    {2.0} <music21.note.Note G#>\n",
      "    {2.5} <music21.note.Note F#>\n",
      "    {3.0} <music21.note.Note G#>\n",
      "    {3.5} <music21.note.Note G#>\n",
      "{56.0} <music21.stream.Measure 15 offset=56.0>\n",
      "    {0.0} <music21.note.Note G#>\n",
      "    {2.0} <music21.note.Note G#>\n",
      "    {2.5} <music21.note.Note A#>\n",
      "    {3.0} <music21.note.Note G#>\n",
      "    {3.5} <music21.note.Note F#>\n",
      "{60.0} <music21.stream.Measure 16 offset=60.0>\n",
      "    {0.0} <music21.layout.SystemLayout>\n",
      "    {0.0} <music21.note.Note F#>\n",
      "    {2.0} <music21.note.Rest rest>\n",
      "    {2.5} <music21.note.Note B>\n",
      "    {3.0} <music21.note.Note C#>\n",
      "    {3.5} <music21.note.Note B>\n",
      "{64.0} <music21.stream.Measure 17 offset=64.0>\n",
      "    {0.0} <music21.note.Note D#>\n",
      "    {1.0} <music21.note.Note D#>\n",
      "    {2.0} <music21.note.Note B>\n",
      "    {2.5} <music21.note.Note C#>\n",
      "    {3.0} <music21.note.Note D#>\n",
      "    {3.5} <music21.note.Note C#>\n",
      "{68.0} <music21.stream.Measure 18 offset=68.0>\n",
      "    {0.0} <music21.note.Note C#>\n",
      "    {0.5} <music21.note.Note F#>\n",
      "    {2.0} <music21.note.Note D#>\n",
      "    {3.0} <music21.note.Note C#>\n",
      "    {3.5} <music21.note.Note C#>\n",
      "{72.0} <music21.stream.Measure 19 offset=72.0>\n",
      "    {0.0} <music21.layout.PageLayout>\n",
      "    {0.0} <music21.layout.SystemLayout>\n",
      "    {0.0} <music21.note.Note B>\n",
      "    {0.5} <music21.note.Note B>\n",
      "    {1.0} <music21.note.Rest rest>\n",
      "    {1.5} <music21.note.Note G#>\n",
      "    {2.0} <music21.note.Note G#>\n",
      "    {2.5} <music21.note.Note A#>\n",
      "    {3.0} <music21.note.Note B>\n",
      "    {3.5} <music21.note.Note A#>\n",
      "{76.0} <music21.stream.Measure 20 offset=76.0>\n",
      "    {0.0} <music21.note.Note A#>\n",
      "    {0.5} <music21.note.Note D#>\n",
      "    {1.5} <music21.note.Note D#>\n",
      "    {2.0} <music21.note.Note A#>\n",
      "    {2.5} <music21.note.Note F#>\n",
      "    {3.0} <music21.note.Note F#>\n",
      "    {3.5} <music21.note.Note E>\n",
      "{80.0} <music21.stream.Measure 21 offset=80.0>\n",
      "    {0.0} <music21.note.Note E>\n",
      "    {0.5} <music21.note.Rest rest>\n",
      "    {1.0} <music21.note.Rest rest>\n",
      "    {1.5} <music21.note.Note E>\n",
      "    {2.0} <music21.note.Note E>\n",
      "    {2.5} <music21.note.Note F#>\n",
      "    {3.0} <music21.note.Note G#>\n",
      "    {3.5} <music21.note.Note A#>\n",
      "{84.0} <music21.stream.Measure 22 offset=84.0>\n",
      "    {0.0} <music21.layout.SystemLayout>\n",
      "    {0.0} <music21.note.Note A#>\n",
      "    {1.0} <music21.note.Note B>\n",
      "    {1.5} <music21.note.Note A#>\n",
      "    {2.5} <music21.note.Note F#>\n",
      "    {3.5} <music21.note.Note B>\n",
      "{88.0} <music21.stream.Measure 23 offset=88.0>\n",
      "    {0.0} <music21.note.Note B>\n",
      "    {1.0} <music21.note.Rest rest>\n",
      "    {1.5} <music21.note.Note D#>\n",
      "    {2.0} <music21.note.Note B>\n",
      "    {2.5} <music21.note.Note C#>\n",
      "    {3.0} <music21.note.Note D#>\n",
      "    {3.5} <music21.note.Note C#>\n",
      "{92.0} <music21.stream.Measure 24 offset=92.0>\n",
      "    {0.0} <music21.note.Note C#>\n",
      "    {0.5} <music21.note.Note F#>\n",
      "    {2.0} <music21.note.Note D#>\n",
      "    {3.0} <music21.note.Note C#>\n",
      "    {3.5} <music21.note.Note C#>\n",
      "{96.0} <music21.stream.Measure 25 offset=96.0>\n",
      "    {0.0} <music21.layout.SystemLayout>\n",
      "    {0.0} <music21.note.Note B>\n",
      "    {0.5} <music21.note.Note B>\n",
      "    {1.0} <music21.note.Rest rest>\n",
      "    {1.5} <music21.note.Note G#>\n",
      "    {2.0} <music21.note.Note G#>\n",
      "    {2.5} <music21.note.Note A#>\n",
      "    {3.0} <music21.note.Note B>\n",
      "    {3.5} <music21.note.Note A#>\n",
      "{100.0} <music21.stream.Measure 26 offset=100.0>\n",
      "    {0.0} <music21.note.Note A#>\n",
      "    {0.5} <music21.note.Note D#>\n",
      "    {1.5} <music21.note.Note D#>\n",
      "    {2.0} <music21.note.Note A#>\n",
      "    {2.5} <music21.note.Note F#>\n",
      "    {3.0} <music21.note.Note F#>\n",
      "    {3.5} <music21.note.Note E>\n",
      "{104.0} <music21.stream.Measure 27 offset=104.0>\n",
      "    {0.0} <music21.note.Note E>\n",
      "    {0.5} <music21.note.Rest rest>\n",
      "    {1.0} <music21.note.Rest rest>\n",
      "    {1.5} <music21.note.Note E>\n",
      "    {2.0} <music21.note.Note E>\n",
      "    {2.5} <music21.note.Note F#>\n",
      "    {3.0} <music21.note.Note G#>\n",
      "    {3.5} <music21.note.Note A#>\n",
      "{108.0} <music21.stream.Measure 28 offset=108.0>\n",
      "    {0.0} <music21.layout.SystemLayout>\n",
      "    {0.0} <music21.note.Note A#>\n",
      "    {1.0} <music21.note.Note B>\n",
      "    {1.5} <music21.note.Note A#>\n",
      "    {2.5} <music21.note.Note F#>\n",
      "    {3.5} <music21.note.Note B>\n",
      "{112.0} <music21.stream.Measure 29 offset=112.0>\n",
      "    {0.0} <music21.note.Note B>\n",
      "{116.0} <music21.stream.Measure 30 offset=116.0>\n",
      "    {0.0} <music21.note.Rest rest>\n",
      "{120.0} <music21.stream.Measure 31 offset=120.0>\n",
      "    {0.0} <music21.note.Rest rest>\n",
      "    {4.0} <music21.bar.Barline style=final>\n"
     ]
    }
   ],
   "source": [
    "vocal.notes.stream().show(\"text\")\n",
    "#vocalnotes.show(\"text\")\n",
    "print(\"hoge\")\n",
    "vocal.show(\"text\")"
   ]
  },
  {
   "cell_type": "code",
   "execution_count": 158,
   "metadata": {
    "ExecuteTime": {
     "end_time": "2018-09-27T21:32:11.443497Z",
     "start_time": "2018-09-27T21:32:08.994887Z"
    },
    "collapsed": false
   },
   "outputs": [
    {
     "data": {
      "image/png": "[encoded data removed]",
      "text/plain": [
       "<IPython.core.display.Image object>"
      ]
     },
     "metadata": {
      "image/png": {
       "height": 567,
       "width": 753
      }
     },
     "output_type": "display_data"
    }
   ],
   "source": [
    "piece.parts[0].show()"
   ]
  },
  {
   "cell_type": "code",
   "execution_count": 202,
   "metadata": {
    "ExecuteTime": {
     "end_time": "2018-09-28T00:25:34.623594Z",
     "start_time": "2018-09-28T00:25:34.615618Z"
    },
    "collapsed": true
   },
   "outputs": [],
   "source": []
  },
  {
   "cell_type": "code",
   "execution_count": 231,
   "metadata": {
    "ExecuteTime": {
     "end_time": "2018-09-28T00:56:51.251769Z",
     "start_time": "2018-09-28T00:56:51.220854Z"
    },
    "collapsed": false,
    "scrolled": true
   },
   "outputs": [
    {
     "name": "stdout",
     "output_type": "stream",
     "text": [
      "[[inf, 2.0], [63.0, 0.5], [64.0, 0.5], [66.0, 0.5], [66.0, 1.0], [66.0, 0.5], [66.0, 0.5], [66.0, 0.5], [68.0, 1.0], [66.0, 0.5], [66.0, 0.5], [59.0, 0.5], [59.0, 0.5], [inf, 0.5], [59.0, 0.5], [59.0, 0.5], [61.0, 0.5], [59.0, 0.5], [63.0, 1.5], [61.0, 1.0], [59.0, 0.5], [61.0, 0.5], [59.0, 0.5], [63.0, 1.5], [inf, 0.5], [63.0, 0.5], [63.0, 0.5], [64.0, 0.5], [66.0, 0.5], [66.0, 1.5], [66.0, 0.5], [66.0, 0.5], [68.0, 0.5], [66.0, 0.5], [68.0, 0.5], [71.0, 1.0], [68.0, 1.0], [inf, 1.0], [66.0, 0.5], [68.0, 0.5], [71.0, 1.0], [71.0, 0.5], [73.0, 0.5], [71.0, 0.5], [75.0, 0.5], [73.0, 0.5], [71.0, 0.5], [inf, 0.5], [inf, 1.0], [63.0, 0.5], [63.0, 0.5], [66.0, 0.5], [63.0, 0.5], [61.0, 0.5], [59.0, 4.5], [inf, 1.0], [63.0, 0.5], [63.0, 0.5], [66.0, 0.5], [63.0, 0.5], [66.0, 0.5], [71.0, 4.5], [inf, 1.0], [63.0, 0.5], [63.0, 0.5], [66.0, 0.5], [63.0, 0.5], [66.0, 0.5], [71.0, 1.0], [71.0, 0.5], [70.0, 0.5], [68.0, 1.0], [66.0, 0.5], [68.0, 0.5], [68.0, 3.0], [70.0, 0.5], [68.0, 0.5], [66.0, 2.5], [inf, 0.5], [71.0, 0.5], [73.0, 0.5], [71.0, 0.5], [75.0, 1.0], [75.0, 1.0], [71.0, 0.5], [73.0, 0.5], [75.0, 0.5], [73.0, 1.0], [78.0, 1.5], [75.0, 1.0], [73.0, 0.5], [73.0, 0.5], [71.0, 0.5], [71.0, 0.5], [inf, 0.5], [68.0, 0.5], [68.0, 0.5], [70.0, 0.5], [71.0, 0.5], [70.0, 1.0], [75.0, 1.0], [75.0, 0.5], [70.0, 0.5], [66.0, 2.0], [inf, 0.5], [inf, 0.5], [64.0, 0.5], [64.0, 0.5], [66.0, 0.5], [68.0, 0.5], [70.0, 1.5], [71.0, 0.5], [70.0, 1.0], [66.0, 1.0], [71.0, 1.5], [inf, 0.5], [75.0, 0.5], [71.0, 0.5], [73.0, 0.5], [75.0, 0.5], [73.0, 1.0], [78.0, 1.5], [75.0, 1.0], [73.0, 0.5], [73.0, 0.5], [71.0, 0.5], [71.0, 0.5], [inf, 0.5], [68.0, 0.5], [68.0, 0.5], [70.0, 0.5], [71.0, 0.5], [70.0, 2.5], [70.0, 0.5], [66.0, 2.0], [inf, 0.5], [inf, 0.5], [64.0, 0.5], [64.0, 0.5], [66.0, 0.5], [68.0, 0.5], [70.0, 1.5], [71.0, 0.5], [70.0, 1.0], [66.0, 1.0], [71.0, 4.5], [inf, 4.0], [inf, 4.0]]\n"
     ]
    }
   ],
   "source": [
    "\"\"\"\n",
    "音価・音高のペアのオブジェクトを楽譜から作る\n",
    "タイの部分→連結\n",
    "\n",
    "\"\"\"\n",
    "\n",
    "\n",
    "\n",
    "record = []\n",
    "checker = False\n",
    "#タイがついた場合の途中記録用\n",
    "pitch_tmp = 0.0\n",
    "duration_tmp = 0.0\n",
    "for i in vocal.flat.notesAndRests.stream():\n",
    "    \n",
    "    #タイがついている\n",
    "    if i.tie:\n",
    "        #タイのはじめの音ならまず音高を記録する\n",
    "        if checker == False:\n",
    "            if i.isNote == True:\n",
    "                #record.append([i.pitch.ps,i.duration.quarterLength])\n",
    "                pitch_tmp = i.pitch.ps\n",
    "                duration_tmp += i.duration.quarterLength\n",
    "            elif i.isRest == True:\n",
    "                #record.append([\"rest\",i.duration.quarterLength])\n",
    "                pitch_tmp = np.inf\n",
    "                duration_tmp += i.duration.quarterLength\n",
    "                \n",
    "        #タイの途中の音なら音長を足していく      \n",
    "        else:\n",
    "            duration_tmp += i.duration.quarterLength\n",
    "            \n",
    "        #タイはついている   \n",
    "        checker = True\n",
    "        \n",
    "    #タイがついてない    \n",
    "    else:\n",
    "        checker = False\n",
    "        #直前がタイの最後の音ならタイでつながって一音になった音を追加\n",
    "        if not duration_tmp == 0.0:\n",
    "            record.append([pitch_tmp,duration_tmp])\n",
    "            duration_tmp = 0.0\n",
    "            \n",
    "        #そうでなければ普通に追加\n",
    "        if i.isNote == True:\n",
    "            record.append([i.pitch.ps,i.duration.quarterLength])\n",
    "        elif i.isRest == True:\n",
    "            record.append([np.inf,i.duration.quarterLength])\n",
    "\n",
    "print(record)"
   ]
  },
  {
   "cell_type": "code",
   "execution_count": 233,
   "metadata": {
    "ExecuteTime": {
     "end_time": "2018-09-28T00:57:18.750853Z",
     "start_time": "2018-09-28T00:57:18.742832Z"
    },
    "collapsed": false
   },
   "outputs": [
    {
     "name": "stdout",
     "output_type": "stream",
     "text": [
      "[-inf, 1.0, 2.0, 0.0, 0.0, 0.0, 0.0, 2.0, -2.0, 0.0, -7.0, 0.0, inf, -inf, 0.0, 2.0, -2.0, 4.0, -2.0, -2.0, 2.0, -2.0, 4.0, inf, -inf, 0.0, 1.0, 2.0, 0.0, 0.0, 0.0, 2.0, -2.0, 2.0, 3.0, -3.0, inf, -inf, 2.0, 3.0, 0.0, 2.0, -2.0, 4.0, -2.0, -2.0, inf, nan, -inf, 0.0, 3.0, -3.0, -2.0, -2.0, inf, -inf, 0.0, 3.0, -3.0, 3.0, 5.0, inf, -inf, 0.0, 3.0, -3.0, 3.0, 5.0, 0.0, -1.0, -2.0, -2.0, 2.0, 0.0, 2.0, -2.0, -2.0, inf, -inf, 2.0, -2.0, 4.0, 0.0, -4.0, 2.0, 2.0, -2.0, 5.0, -3.0, -2.0, 0.0, -2.0, 0.0, inf, -inf, 0.0, 2.0, 1.0, -1.0, 5.0, 0.0, -5.0, -4.0, inf, nan, -inf, 0.0, 2.0, 2.0, 2.0, 1.0, -1.0, -4.0, 5.0, inf, -inf, -4.0, 2.0, 2.0, -2.0, 5.0, -3.0, -2.0, 0.0, -2.0, 0.0, inf, -inf, 0.0, 2.0, 1.0, -1.0, 0.0, -4.0, inf, nan, -inf, 0.0, 2.0, 2.0, 2.0, 1.0, -1.0, -4.0, 5.0, inf, nan]\n"
     ]
    }
   ],
   "source": [
    "pitch_diff = []\n",
    "for i in range(len(record)-1):\n",
    "    pitch_diff.append(record[i+1][0] - record[i][0])\n",
    "print(pitch_diff)"
   ]
  },
  {
   "cell_type": "code",
   "execution_count": 254,
   "metadata": {
    "ExecuteTime": {
     "end_time": "2018-09-28T09:34:56.996283Z",
     "start_time": "2018-09-28T09:34:56.943178Z"
    },
    "collapsed": true
   },
   "outputs": [],
   "source": [
    "def shuukei(vocalpart):\n",
    "    \"\"\"\n",
    "    音価・音高のペアのオブジェクトを楽譜から作る\n",
    "    タイの部分→連結\n",
    "\n",
    "    \"\"\"\n",
    "    record = []\n",
    "    checker = False\n",
    "    #タイがついた場合の途中記録用\n",
    "    pitch_tmp = 0.0\n",
    "    duration_tmp = 0.0\n",
    "    for i in vocalpart.flat.notesAndRests.stream():\n",
    "        \n",
    "        #タイがついている\n",
    "        if i.tie:\n",
    "            #タイのはじめの音ならまず音高を記録する\n",
    "            if checker == False:\n",
    "                if i.isNote == True:\n",
    "                    #record.append([i.pitch.ps,i.duration.quarterLength])\n",
    "                    #音符はノート番号\n",
    "                    pitch_tmp = i.pitch.ps\n",
    "                    duration_tmp += i.duration.quarterLength\n",
    "                elif i.isRest == True:\n",
    "                    #record.append([\"rest\",i.duration.quarterLength])\n",
    "                    #休符は無限にする\n",
    "                    pitch_tmp = np.inf\n",
    "                    duration_tmp += i.duration.quarterLength\n",
    "                \n",
    "            #タイの途中の音なら音長を足していく      \n",
    "            else:\n",
    "                duration_tmp += i.duration.quarterLength\n",
    "            \n",
    "            #タイはついている   \n",
    "            checker = True\n",
    "        \n",
    "        #タイがついてない    \n",
    "        else:\n",
    "            checker = False\n",
    "            #直前がタイの最後の音ならタイでつながって一音になった音を追加\n",
    "            if not duration_tmp == 0.0:\n",
    "                record.append([pitch_tmp,duration_tmp])\n",
    "                duration_tmp = 0.0\n",
    "            \n",
    "            #そうでなければ普通に追加\n",
    "            if i.isNote == True:\n",
    "                record.append([i.pitch.ps,i.duration.quarterLength])\n",
    "            elif i.isRest == True:\n",
    "                record.append([np.inf,i.duration.quarterLength])\n",
    "\n",
    "    return record"
   ]
  },
  {
   "cell_type": "code",
   "execution_count": 323,
   "metadata": {
    "ExecuteTime": {
     "end_time": "2018-09-28T10:32:45.348356Z",
     "start_time": "2018-09-28T10:32:45.337254Z"
    },
    "collapsed": true
   },
   "outputs": [],
   "source": [
    "def count_pitch(song):\n",
    "    #[音高,音価]が要素になったリストから音高を集計する\n",
    "    lis = []\n",
    "    for n in range(len(song)):\n",
    "        lis.append(song[n][0])\n",
    "    pitch_count = Counter(lis)\n",
    "    return pitch_count\n"
   ]
  },
  {
   "cell_type": "code",
   "execution_count": 324,
   "metadata": {
    "ExecuteTime": {
     "end_time": "2018-09-28T10:32:45.607441Z",
     "start_time": "2018-09-28T10:32:45.599237Z"
    },
    "collapsed": true
   },
   "outputs": [],
   "source": [
    "def make_pitch_bigram(shuukei_obj):\n",
    "    #[音高,音価]が要素になったリストから音高のBigramのリストを作成する\n",
    "    pitch_diff = []\n",
    "    for i in range(len(shuukei_obj)-1):\n",
    "        pitch_diff.append(shuukei_obj[i+1][0] - shuukei_obj[i][0])\n",
    "    return pitch_diff"
   ]
  },
  {
   "cell_type": "code",
   "execution_count": 352,
   "metadata": {
    "ExecuteTime": {
     "end_time": "2018-09-28T10:52:19.766345Z",
     "start_time": "2018-09-28T10:52:19.754709Z"
    },
    "collapsed": true
   },
   "outputs": [],
   "source": [
    "def jump_rate(bigram_status):\n",
    "    #バイグラム列から跳躍の割合を返す\n",
    "    jump = 0\n",
    "    slope = 0 \n",
    "    for key in bigram_status.keys():\n",
    "        if np.abs(key) <= 2.0:\n",
    "            slope += bigram_status[key]\n",
    "        elif np.abs(key) <= 10000.0:\n",
    "            jump += bigram_status[key]\n",
    "    return jump/(jump+slope)\n",
    "            "
   ]
  },
  {
   "cell_type": "code",
   "execution_count": 325,
   "metadata": {
    "ExecuteTime": {
     "end_time": "2018-09-28T10:32:45.811850Z",
     "start_time": "2018-09-28T10:32:45.800956Z"
    },
    "collapsed": false
   },
   "outputs": [],
   "source": [
    "def delete_inf(bigram_status): \n",
    "    #休符を含むBigramを削除\n",
    "    del bigram_status[np.inf]\n",
    "    del bigram_status[-np.inf]\n",
    "    return bigram_status"
   ]
  },
  {
   "cell_type": "markdown",
   "metadata": {},
   "source": [
    "### 以下関係ないテストコード群\n"
   ]
  },
  {
   "cell_type": "code",
   "execution_count": 77,
   "metadata": {
    "ExecuteTime": {
     "end_time": "2018-09-27T20:59:59.158534Z",
     "start_time": "2018-09-27T20:59:59.152759Z"
    },
    "collapsed": false
   },
   "outputs": [],
   "source": [
    "for n in vocal.notesAndRests:\n",
    "    print(n)"
   ]
  },
  {
   "cell_type": "code",
   "execution_count": 133,
   "metadata": {
    "ExecuteTime": {
     "end_time": "2018-09-27T21:22:08.396410Z",
     "start_time": "2018-09-27T21:22:08.381735Z"
    },
    "collapsed": false
   },
   "outputs": [
    {
     "name": "stdout",
     "output_type": "stream",
     "text": [
      "{0.0} <music21.key.KeySignature of no sharps or flats>\n",
      "{0.0} <music21.note.Note B>\n",
      "{1.0} <music21.note.Rest rest>\n",
      "{2.0} <music21.chord.Chord A B->\n"
     ]
    }
   ],
   "source": [
    "p1 = stream.Part()\n",
    "k1 = key.KeySignature(0) # key of C\n",
    "n1 = note.Note('B')\n",
    "r1 = note.Rest()\n",
    "c1 = chord.Chord(['A', 'B-'])\n",
    "p1.append([k1, n1, r1, c1])\n",
    "p1.show('text')"
   ]
  },
  {
   "cell_type": "code",
   "execution_count": 140,
   "metadata": {
    "ExecuteTime": {
     "end_time": "2018-09-27T21:23:32.548061Z",
     "start_time": "2018-09-27T21:23:32.536841Z"
    },
    "collapsed": false
   },
   "outputs": [
    {
     "name": "stdout",
     "output_type": "stream",
     "text": [
      "{0.0} <music21.note.Note B>\n",
      "{2.0} <music21.chord.Chord A B->\n"
     ]
    }
   ],
   "source": [
    "noteStream = p1.notes.stream()\n",
    "noteStream?\n",
    "noteStream.show('text')"
   ]
  },
  {
   "cell_type": "code",
   "execution_count": 364,
   "metadata": {
    "ExecuteTime": {
     "end_time": "2018-09-28T11:30:57.550786Z",
     "start_time": "2018-09-28T11:30:57.523185Z"
    },
    "collapsed": false
   },
   "outputs": [],
   "source": [
    "piece1 = m21.converter.parse(\"./cherry.xml\")\n",
    "vocal1 = piece1.parts[0]"
   ]
  },
  {
   "cell_type": "code",
   "execution_count": 365,
   "metadata": {
    "ExecuteTime": {
     "end_time": "2018-09-28T11:31:02.021065Z",
     "start_time": "2018-09-28T11:30:58.143502Z"
    },
    "collapsed": false
   },
   "outputs": [
    {
     "data": {
      "image/png": "[encoded data removed]",
      "text/plain": [
       "<IPython.core.display.Image object>"
      ]
     },
     "metadata": {
      "image/png": {
       "height": 175,
       "width": 748
      }
     },
     "output_type": "display_data"
    }
   ],
   "source": [
    "vocal1.show()"
   ]
  },
  {
   "cell_type": "code",
   "execution_count": 397,
   "metadata": {
    "ExecuteTime": {
     "end_time": "2018-09-28T12:29:15.846464Z",
     "start_time": "2018-09-28T12:29:12.395414Z"
    },
    "collapsed": false
   },
   "outputs": [],
   "source": [
    "piece2 = m21.converter.parse(\"./TSUNAMI.xml\")\n",
    "vocal2 = piece2.parts[0]\n",
    "piece3 = m21.converter.parse(\"./roman.xml\")\n",
    "vocal3 = piece3.parts[0]\n",
    "piece4 = m21.converter.parse(\"./aporo3.xml\")\n",
    "vocal4 = piece4.parts[0]"
   ]
  },
  {
   "cell_type": "code",
   "execution_count": 412,
   "metadata": {
    "ExecuteTime": {
     "end_time": "2018-09-28T12:49:58.613081Z",
     "start_time": "2018-09-28T12:49:54.727643Z"
    },
    "collapsed": true
   },
   "outputs": [],
   "source": [
    "piece5 = m21.converter.parse(\"./guren.mxl\")\n",
    "vocal5 = piece5.parts[0]\n",
    "piece6 = m21.converter.parse(\"./konayuki.mxl\")\n",
    "vocal6 = piece6.parts[0]"
   ]
  },
  {
   "cell_type": "code",
   "execution_count": 413,
   "metadata": {
    "ExecuteTime": {
     "end_time": "2018-09-28T12:50:06.466342Z",
     "start_time": "2018-09-28T12:50:02.723974Z"
    },
    "collapsed": false,
    "scrolled": true
   },
   "outputs": [
    {
     "data": {
      "image/png": "[encoded data removed]",
      "text/plain": [
       "<IPython.core.display.Image object>"
      ]
     },
     "metadata": {
      "image/png": {
       "height": 293,
       "width": 751
      }
     },
     "output_type": "display_data"
    }
   ],
   "source": [
    "vocal5.show()"
   ]
  },
  {
   "cell_type": "code",
   "execution_count": 401,
   "metadata": {
    "ExecuteTime": {
     "end_time": "2018-09-28T12:29:59.419253Z",
     "start_time": "2018-09-28T12:29:59.288638Z"
    },
    "collapsed": false
   },
   "outputs": [],
   "source": [
    "cherry = shuukei(vocal1)\n",
    "tsunami = shuukei(vocal2.measures(1,42))\n",
    "roman = shuukei(vocal3.measures(1,29))\n",
    "aporo= shuukei(vocal4.measures(3,59))"
   ]
  },
  {
   "cell_type": "code",
   "execution_count": 417,
   "metadata": {
    "ExecuteTime": {
     "end_time": "2018-09-28T12:53:42.570043Z",
     "start_time": "2018-09-28T12:53:42.438396Z"
    },
    "collapsed": true
   },
   "outputs": [],
   "source": [
    "guren = shuukei(vocal5.measures(12,51))\n",
    "konayuki = shuukei(vocal6.measures(5,45))"
   ]
  },
  {
   "cell_type": "code",
   "execution_count": 418,
   "metadata": {
    "ExecuteTime": {
     "end_time": "2018-09-28T12:53:42.852064Z",
     "start_time": "2018-09-28T12:53:42.836100Z"
    },
    "collapsed": false
   },
   "outputs": [
    {
     "data": {
      "text/plain": [
       "[[inf, 1.0],\n",
       " [59.0, 0.5],\n",
       " [61.0, 1.0],\n",
       " [58.0, 1.0],\n",
       " [59.0, 1.0],\n",
       " [56.0, 1.0],\n",
       " [58.0, 1.0],\n",
       " [54.0, 1.0],\n",
       " [inf, 0.5],\n",
       " [63.0, 1.0],\n",
       " [59.0, 0.5],\n",
       " [61.0, 1.0],\n",
       " [58.0, 1.0],\n",
       " [59.0, 1.0],\n",
       " [58.0, 1.0],\n",
       " [56.0, 1.0],\n",
       " [54.0, 1.0],\n",
       " [inf, 0.5],\n",
       " [63.0, 1.0],\n",
       " [59.0, 0.5],\n",
       " [61.0, 1.0],\n",
       " [58.0, 1.0],\n",
       " [59.0, 1.0],\n",
       " [56.0, 1.0],\n",
       " [58.0, 1.0],\n",
       " [54.0, 1.0],\n",
       " [inf, 0.5],\n",
       " [63.0, 1.0],\n",
       " [59.0, 0.5],\n",
       " [61.0, 1.0],\n",
       " [58.0, 1.0],\n",
       " [59.0, 1.0],\n",
       " [58.0, 1.0],\n",
       " [56.0, 1.0],\n",
       " [54.0, 1.0],\n",
       " [inf, 0.5],\n",
       " [63.0, 1.0],\n",
       " [59.0, 0.5],\n",
       " [61.0, 1.0],\n",
       " [58.0, 1.0],\n",
       " [59.0, 1.0],\n",
       " [56.0, 1.0],\n",
       " [58.0, 1.0],\n",
       " [54.0, 1.0],\n",
       " [inf, 0.5],\n",
       " [63.0, 1.0],\n",
       " [59.0, 0.5],\n",
       " [61.0, 1.0],\n",
       " [58.0, 1.0],\n",
       " [59.0, 1.0],\n",
       " [58.0, 1.0],\n",
       " [56.0, 1.0],\n",
       " [54.0, 1.0],\n",
       " [inf, 0.5],\n",
       " [63.0, 1.0],\n",
       " [59.0, 0.5],\n",
       " [61.0, 1.0],\n",
       " [58.0, 1.0],\n",
       " [59.0, 1.0],\n",
       " [56.0, 1.0],\n",
       " [58.0, 1.0],\n",
       " [54.0, 1.0],\n",
       " [inf, 0.5],\n",
       " [63.0, 1.0],\n",
       " [59.0, 0.5],\n",
       " [61.0, 1.0],\n",
       " [58.0, 1.0],\n",
       " [59.0, 1.0],\n",
       " [58.0, 1.0],\n",
       " [56.0, 1.0],\n",
       " [55.0, 1.0],\n",
       " [inf, 0.5],\n",
       " [56.0, 1.5],\n",
       " [56.0, 0.5],\n",
       " [56.0, 0.5],\n",
       " [56.0, 0.5],\n",
       " [58.0, 0.5],\n",
       " [59.0, 0.5],\n",
       " [58.0, 0.5],\n",
       " [56.0, 0.5],\n",
       " [55.0, 1.0],\n",
       " [inf, 1.0],\n",
       " [51.0, 0.75],\n",
       " [55.0, 0.25],\n",
       " [56.0, 1.0],\n",
       " [51.0, 0.75],\n",
       " [56.0, 0.25],\n",
       " [58.0, 1.0],\n",
       " [54.0, 0.75],\n",
       " [58.0, 0.25],\n",
       " [59.0, 1.0],\n",
       " [54.0, 0.75],\n",
       " [59.0, 0.25],\n",
       " [60.0, 1.0],\n",
       " [inf, 0.5],\n",
       " [61.0, 1.0],\n",
       " [61.0, 0.5],\n",
       " [61.0, 0.5],\n",
       " [61.0, 0.5],\n",
       " [56.0, 1.0],\n",
       " [61.0, 1.0],\n",
       " [59.0, 0.5],\n",
       " [59.0, 0.5],\n",
       " [59.0, 0.5],\n",
       " [54.0, 1.0],\n",
       " [59.0, 1.0],\n",
       " [61.0, 1.0],\n",
       " [61.0, 0.5],\n",
       " [61.0, 0.5],\n",
       " [61.0, 0.5],\n",
       " [56.0, 1.0],\n",
       " [61.0, 0.5],\n",
       " [61.0, 0.5],\n",
       " [61.0, 1.5],\n",
       " [60.0, 0.5],\n",
       " [60.0, 2.0],\n",
       " [61.0, 0.5],\n",
       " [61.0, 0.5],\n",
       " [64.0, 0.5],\n",
       " [63.0, 1.0],\n",
       " [59.0, 1.0],\n",
       " [61.0, 1.0],\n",
       " [61.0, 0.5],\n",
       " [64.0, 0.5],\n",
       " [63.0, 1.0],\n",
       " [59.0, 1.0],\n",
       " [inf, 0.5],\n",
       " [61.0, 0.5],\n",
       " [61.0, 0.5],\n",
       " [64.0, 0.5],\n",
       " [63.0, 1.0],\n",
       " [61.0, 1.0],\n",
       " [61.0, 1.5],\n",
       " [59.0, 0.5],\n",
       " [56.0, 1.0],\n",
       " [59.0, 1.0],\n",
       " [inf, 0.5],\n",
       " [61.0, 0.5],\n",
       " [61.0, 0.5],\n",
       " [64.0, 0.5],\n",
       " [63.0, 1.0],\n",
       " [59.0, 1.0],\n",
       " [61.0, 1.0],\n",
       " [61.0, 0.5],\n",
       " [64.0, 0.5],\n",
       " [63.0, 1.0],\n",
       " [59.0, 1.0],\n",
       " [inf, 0.5],\n",
       " [61.0, 0.5],\n",
       " [61.0, 0.5],\n",
       " [64.0, 0.5],\n",
       " [63.0, 1.0],\n",
       " [64.0, 0.5],\n",
       " [66.0, 0.5],\n",
       " [59.0, 1.0],\n",
       " [68.0, 1.5],\n",
       " [66.0, 2.0],\n",
       " [61.0, 0.5],\n",
       " [61.0, 0.5],\n",
       " [64.0, 0.5],\n",
       " [63.0, 1.0],\n",
       " [59.0, 1.0],\n",
       " [61.0, 1.0],\n",
       " [61.0, 0.5],\n",
       " [64.0, 0.5],\n",
       " [63.0, 1.0],\n",
       " [59.0, 1.0],\n",
       " [inf, 0.5],\n",
       " [61.0, 0.5],\n",
       " [61.0, 0.5],\n",
       " [64.0, 0.5],\n",
       " [63.0, 1.0],\n",
       " [61.0, 1.0],\n",
       " [61.0, 1.5],\n",
       " [59.0, 0.5],\n",
       " [56.0, 1.0],\n",
       " [59.0, 1.0],\n",
       " [inf, 0.5],\n",
       " [61.0, 0.5],\n",
       " [61.0, 0.5],\n",
       " [64.0, 0.5],\n",
       " [63.0, 1.0],\n",
       " [59.0, 1.0],\n",
       " [61.0, 1.0],\n",
       " [61.0, 0.5],\n",
       " [64.0, 0.5],\n",
       " [63.0, 1.0],\n",
       " [59.0, 1.0],\n",
       " [59.0, 0.5],\n",
       " [61.0, 1.0],\n",
       " [64.0, 0.5],\n",
       " [63.0, 1.0],\n",
       " [61.0, 0.5],\n",
       " [59.0, 0.5]]"
      ]
     },
     "execution_count": 418,
     "metadata": {},
     "output_type": "execute_result"
    }
   ],
   "source": [
    "guren"
   ]
  },
  {
   "cell_type": "code",
   "execution_count": 419,
   "metadata": {
    "ExecuteTime": {
     "end_time": "2018-09-28T12:53:46.541296Z",
     "start_time": "2018-09-28T12:53:46.523307Z"
    },
    "collapsed": false
   },
   "outputs": [
    {
     "data": {
      "text/plain": [
       "[[57.0, 1.0],\n",
       " [57.0, 0.5],\n",
       " [55.0, 0.25],\n",
       " [57.0, 1.75],\n",
       " [55.0, 0.5],\n",
       " [57.0, 0.5],\n",
       " [59.0, 0.25],\n",
       " [57.0, 0.5],\n",
       " [55.0, 0.25],\n",
       " [50.0, 2.0],\n",
       " [55.0, 0.5],\n",
       " [54.0, 1.5],\n",
       " [52.0, 0.25],\n",
       " [54.0, 1.75],\n",
       " [52.0, 0.25],\n",
       " [54.0, 0.5],\n",
       " [55.0, 0.25],\n",
       " [55.0, 0.5],\n",
       " [inf, 2.0],\n",
       " [inf, 0.75],\n",
       " [50.0, 0.25],\n",
       " [57.0, 1.5],\n",
       " [55.0, 0.5],\n",
       " [57.0, 1.5],\n",
       " [55.0, 0.5],\n",
       " [57.0, 0.5],\n",
       " [59.0, 0.25],\n",
       " [57.0, 0.5],\n",
       " [55.0, 0.25],\n",
       " [50.0, 2.0],\n",
       " [55.0, 0.5],\n",
       " [54.0, 1.5],\n",
       " [52.0, 0.25],\n",
       " [54.0, 1.75],\n",
       " [54.0, 0.25],\n",
       " [52.0, 0.25],\n",
       " [54.0, 0.25],\n",
       " [55.0, 0.25],\n",
       " [55.0, 0.5],\n",
       " [inf, 1.0],\n",
       " [inf, 0.5],\n",
       " [59.0, 0.25],\n",
       " [59.0, 0.25],\n",
       " [59.0, 0.25],\n",
       " [55.0, 0.5],\n",
       " [57.0, 0.5],\n",
       " [55.0, 0.25],\n",
       " [55.0, 1.5],\n",
       " [inf, 2.0],\n",
       " [inf, 0.5],\n",
       " [55.0, 0.25],\n",
       " [55.0, 0.25],\n",
       " [55.0, 0.25],\n",
       " [55.0, 0.5],\n",
       " [55.0, 0.25],\n",
       " [55.0, 0.25],\n",
       " [54.0, 0.5],\n",
       " [52.0, 0.5],\n",
       " [54.0, 0.25],\n",
       " [55.0, 1.5],\n",
       " [inf, 1.0],\n",
       " [inf, 2.0],\n",
       " [inf, 4.0],\n",
       " [57.0, 1.5],\n",
       " [55.0, 0.25],\n",
       " [57.0, 1.75],\n",
       " [55.0, 0.25],\n",
       " [55.0, 0.25],\n",
       " [57.0, 0.5],\n",
       " [59.0, 0.25],\n",
       " [57.0, 0.5],\n",
       " [57.0, 0.25],\n",
       " [55.0, 0.25],\n",
       " [50.0, 1.75],\n",
       " [55.0, 0.5],\n",
       " [54.0, 1.5],\n",
       " [52.0, 0.25],\n",
       " [54.0, 1.75],\n",
       " [52.0, 0.25],\n",
       " [54.0, 0.5],\n",
       " [55.0, 0.25],\n",
       " [55.0, 1.5],\n",
       " [inf, 1.0],\n",
       " [inf, 0.5],\n",
       " [inf, 0.25],\n",
       " [50.0, 0.25],\n",
       " [57.0, 1.5],\n",
       " [55.0, 0.25],\n",
       " [57.0, 1.75],\n",
       " [55.0, 0.5],\n",
       " [57.0, 0.5],\n",
       " [59.0, 0.25],\n",
       " [57.0, 0.5],\n",
       " [55.0, 0.25],\n",
       " [50.0, 2.0],\n",
       " [55.0, 0.5],\n",
       " [54.0, 1.5],\n",
       " [52.0, 0.25],\n",
       " [54.0, 1.75],\n",
       " [52.0, 0.25],\n",
       " [54.0, 0.5],\n",
       " [55.0, 0.25],\n",
       " [55.0, 1.5],\n",
       " [inf, 0.5],\n",
       " [59.0, 0.5],\n",
       " [59.0, 0.25],\n",
       " [55.0, 0.25],\n",
       " [55.0, 0.25],\n",
       " [57.0, 0.5],\n",
       " [55.0, 0.25],\n",
       " [55.0, 1.5],\n",
       " [inf, 2.0],\n",
       " [inf, 0.5],\n",
       " [55.0, 0.5],\n",
       " [55.0, 0.25],\n",
       " [55.0, 0.5],\n",
       " [55.0, 0.25],\n",
       " [55.0, 0.5],\n",
       " [54.0, 0.25],\n",
       " [52.0, 0.5],\n",
       " [54.0, 0.25],\n",
       " [55.0, 1.5],\n",
       " [inf, 1.0],\n",
       " [55.0, 0.5],\n",
       " [54.0, 0.5],\n",
       " [54.0, 0.5],\n",
       " [52.0, 0.5],\n",
       " [52.0, 0.5],\n",
       " [52.0, 0.5],\n",
       " [52.0, 0.5],\n",
       " [52.0, 0.5],\n",
       " [59.0, 0.5],\n",
       " [59.0, 0.5],\n",
       " [59.0, 0.5],\n",
       " [59.0, 0.5],\n",
       " [64.0, 0.25],\n",
       " [62.0, 0.25],\n",
       " [62.0, 0.5],\n",
       " [inf, 0.5],\n",
       " [60.0, 0.25],\n",
       " [59.0, 0.25],\n",
       " [59.0, 0.5],\n",
       " [55.0, 0.25],\n",
       " [57.0, 0.25],\n",
       " [59.0, 0.25],\n",
       " [55.0, 0.5],\n",
       " [57.0, 0.5],\n",
       " [55.0, 0.25],\n",
       " [55.0, 1.5],\n",
       " [inf, 0.5],\n",
       " [50.0, 0.5],\n",
       " [50.0, 0.5],\n",
       " [50.0, 0.5],\n",
       " [52.0, 0.5],\n",
       " [50.0, 0.5],\n",
       " [50.0, 0.5],\n",
       " [50.0, 0.5],\n",
       " [47.0, 0.5],\n",
       " [50.0, 1.0],\n",
       " [50.0, 0.5],\n",
       " [57.0, 1.5],\n",
       " [55.0, 0.25],\n",
       " [57.0, 1.75],\n",
       " [55.0, 0.5],\n",
       " [57.0, 0.5],\n",
       " [59.0, 0.25],\n",
       " [57.0, 0.5],\n",
       " [55.0, 0.25],\n",
       " [52.0, 2.0],\n",
       " [50.0, 0.5],\n",
       " [52.0, 0.5],\n",
       " [52.0, 0.5],\n",
       " [52.0, 0.5],\n",
       " [55.0, 0.5],\n",
       " [57.0, 0.5],\n",
       " [59.0, 0.5],\n",
       " [54.0, 0.5],\n",
       " [50.0, 0.5],\n",
       " [52.0, 2.0],\n",
       " [inf, 0.5],\n",
       " [64.0, 0.5],\n",
       " [64.0, 0.5],\n",
       " [64.0, 0.5],\n",
       " [64.0, 0.5],\n",
       " [62.0, 3.5],\n",
       " [59.0, 2.0],\n",
       " [62.0, 1.5],\n",
       " [62.0, 0.25],\n",
       " [69.0, 1.75],\n",
       " [67.0, 0.25],\n",
       " [62.0, 1.75],\n",
       " [60.0, 0.25],\n",
       " [59.0, 0.25],\n",
       " [inf, 0.5],\n",
       " [59.0, 0.5],\n",
       " [59.0, 0.5],\n",
       " [64.0, 0.25],\n",
       " [66.0, 0.75],\n",
       " [67.0, 0.25],\n",
       " [66.0, 0.75],\n",
       " [62.0, 0.25],\n",
       " [64.0, 1.25],\n",
       " [64.0, 0.5],\n",
       " [67.0, 0.25],\n",
       " [69.0, 0.75],\n",
       " [67.0, 0.25],\n",
       " [66.0, 0.75],\n",
       " [67.0, 0.25],\n",
       " [67.0, 1.25],\n",
       " [67.0, 0.5],\n",
       " [66.0, 0.75],\n",
       " [64.0, 0.25],\n",
       " [62.0, 1.0],\n",
       " [62.0, 0.25],\n",
       " [69.0, 1.75],\n",
       " [67.0, 0.25],\n",
       " [62.0, 1.75],\n",
       " [60.0, 0.25],\n",
       " [59.0, 0.25],\n",
       " [inf, 0.5],\n",
       " [59.0, 0.5],\n",
       " [59.0, 0.5],\n",
       " [64.0, 0.25],\n",
       " [66.0, 0.75],\n",
       " [67.0, 0.25],\n",
       " [66.0, 0.75],\n",
       " [62.0, 0.25],\n",
       " [64.0, 0.75],\n",
       " [62.0, 0.5],\n",
       " [64.0, 0.5],\n",
       " [67.0, 0.25],\n",
       " [69.0, 0.75],\n",
       " [67.0, 0.25],\n",
       " [66.0, 0.75],\n",
       " [67.0, 0.25],\n",
       " [67.0, 1.25],\n",
       " [inf, 1.0],\n",
       " [inf, 2.0]]"
      ]
     },
     "execution_count": 419,
     "metadata": {},
     "output_type": "execute_result"
    }
   ],
   "source": [
    "konayuki"
   ]
  },
  {
   "cell_type": "code",
   "execution_count": 368,
   "metadata": {
    "ExecuteTime": {
     "end_time": "2018-09-28T11:31:18.866349Z",
     "start_time": "2018-09-28T11:31:18.858241Z"
    },
    "collapsed": true
   },
   "outputs": [],
   "source": [
    "tsunami_pitch_bigram = make_pitch_bigram(tsunami)"
   ]
  },
  {
   "cell_type": "code",
   "execution_count": 421,
   "metadata": {
    "ExecuteTime": {
     "end_time": "2018-09-28T12:54:25.088669Z",
     "start_time": "2018-09-28T12:54:25.082725Z"
    },
    "collapsed": true
   },
   "outputs": [],
   "source": [
    "guren_pitch_bigram = make_pitch_bigram(guren)\n",
    "konayuki_pitch_bigram = make_pitch_bigram(konayuki)"
   ]
  },
  {
   "cell_type": "code",
   "execution_count": 422,
   "metadata": {
    "ExecuteTime": {
     "end_time": "2018-09-28T12:54:26.247438Z",
     "start_time": "2018-09-28T12:54:26.236504Z"
    },
    "collapsed": false
   },
   "outputs": [
    {
     "data": {
      "text/plain": [
       "[-inf,\n",
       " 2.0,\n",
       " -3.0,\n",
       " 1.0,\n",
       " -3.0,\n",
       " 2.0,\n",
       " -4.0,\n",
       " inf,\n",
       " -inf,\n",
       " -4.0,\n",
       " 2.0,\n",
       " -3.0,\n",
       " 1.0,\n",
       " -1.0,\n",
       " -2.0,\n",
       " -2.0,\n",
       " inf,\n",
       " -inf,\n",
       " -4.0,\n",
       " 2.0,\n",
       " -3.0,\n",
       " 1.0,\n",
       " -3.0,\n",
       " 2.0,\n",
       " -4.0,\n",
       " inf,\n",
       " -inf,\n",
       " -4.0,\n",
       " 2.0,\n",
       " -3.0,\n",
       " 1.0,\n",
       " -1.0,\n",
       " -2.0,\n",
       " -2.0,\n",
       " inf,\n",
       " -inf,\n",
       " -4.0,\n",
       " 2.0,\n",
       " -3.0,\n",
       " 1.0,\n",
       " -3.0,\n",
       " 2.0,\n",
       " -4.0,\n",
       " inf,\n",
       " -inf,\n",
       " -4.0,\n",
       " 2.0,\n",
       " -3.0,\n",
       " 1.0,\n",
       " -1.0,\n",
       " -2.0,\n",
       " -2.0,\n",
       " inf,\n",
       " -inf,\n",
       " -4.0,\n",
       " 2.0,\n",
       " -3.0,\n",
       " 1.0,\n",
       " -3.0,\n",
       " 2.0,\n",
       " -4.0,\n",
       " inf,\n",
       " -inf,\n",
       " -4.0,\n",
       " 2.0,\n",
       " -3.0,\n",
       " 1.0,\n",
       " -1.0,\n",
       " -2.0,\n",
       " -1.0,\n",
       " inf,\n",
       " -inf,\n",
       " 0.0,\n",
       " 0.0,\n",
       " 0.0,\n",
       " 2.0,\n",
       " 1.0,\n",
       " -1.0,\n",
       " -2.0,\n",
       " -1.0,\n",
       " inf,\n",
       " -inf,\n",
       " 4.0,\n",
       " 1.0,\n",
       " -5.0,\n",
       " 5.0,\n",
       " 2.0,\n",
       " -4.0,\n",
       " 4.0,\n",
       " 1.0,\n",
       " -5.0,\n",
       " 5.0,\n",
       " 1.0,\n",
       " inf,\n",
       " -inf,\n",
       " 0.0,\n",
       " 0.0,\n",
       " 0.0,\n",
       " -5.0,\n",
       " 5.0,\n",
       " -2.0,\n",
       " 0.0,\n",
       " 0.0,\n",
       " -5.0,\n",
       " 5.0,\n",
       " 2.0,\n",
       " 0.0,\n",
       " 0.0,\n",
       " 0.0,\n",
       " -5.0,\n",
       " 5.0,\n",
       " 0.0,\n",
       " 0.0,\n",
       " -1.0,\n",
       " 0.0,\n",
       " 1.0,\n",
       " 0.0,\n",
       " 3.0,\n",
       " -1.0,\n",
       " -4.0,\n",
       " 2.0,\n",
       " 0.0,\n",
       " 3.0,\n",
       " -1.0,\n",
       " -4.0,\n",
       " inf,\n",
       " -inf,\n",
       " 0.0,\n",
       " 3.0,\n",
       " -1.0,\n",
       " -2.0,\n",
       " 0.0,\n",
       " -2.0,\n",
       " -3.0,\n",
       " 3.0,\n",
       " inf,\n",
       " -inf,\n",
       " 0.0,\n",
       " 3.0,\n",
       " -1.0,\n",
       " -4.0,\n",
       " 2.0,\n",
       " 0.0,\n",
       " 3.0,\n",
       " -1.0,\n",
       " -4.0,\n",
       " inf,\n",
       " -inf,\n",
       " 0.0,\n",
       " 3.0,\n",
       " -1.0,\n",
       " 1.0,\n",
       " 2.0,\n",
       " -7.0,\n",
       " 9.0,\n",
       " -2.0,\n",
       " -5.0,\n",
       " 0.0,\n",
       " 3.0,\n",
       " -1.0,\n",
       " -4.0,\n",
       " 2.0,\n",
       " 0.0,\n",
       " 3.0,\n",
       " -1.0,\n",
       " -4.0,\n",
       " inf,\n",
       " -inf,\n",
       " 0.0,\n",
       " 3.0,\n",
       " -1.0,\n",
       " -2.0,\n",
       " 0.0,\n",
       " -2.0,\n",
       " -3.0,\n",
       " 3.0,\n",
       " inf,\n",
       " -inf,\n",
       " 0.0,\n",
       " 3.0,\n",
       " -1.0,\n",
       " -4.0,\n",
       " 2.0,\n",
       " 0.0,\n",
       " 3.0,\n",
       " -1.0,\n",
       " -4.0,\n",
       " 0.0,\n",
       " 2.0,\n",
       " 3.0,\n",
       " -1.0,\n",
       " -2.0,\n",
       " -2.0]"
      ]
     },
     "execution_count": 422,
     "metadata": {},
     "output_type": "execute_result"
    }
   ],
   "source": [
    "guren_pitch_bigram\n"
   ]
  },
  {
   "cell_type": "code",
   "execution_count": 328,
   "metadata": {
    "ExecuteTime": {
     "end_time": "2018-09-28T10:32:47.833153Z",
     "start_time": "2018-09-28T10:32:47.823106Z"
    },
    "collapsed": false
   },
   "outputs": [],
   "source": [
    "tsunami_pitch_bigram_status = delete_inf(Counter(tsunami_pitch_bigram))"
   ]
  },
  {
   "cell_type": "code",
   "execution_count": 423,
   "metadata": {
    "ExecuteTime": {
     "end_time": "2018-09-28T12:55:09.957348Z",
     "start_time": "2018-09-28T12:55:09.947377Z"
    },
    "collapsed": false
   },
   "outputs": [],
   "source": [
    "guren_pitch_bigram_status = delete_inf(Counter(guren_pitch_bigram))\n",
    "konayuki_pitch_bigram_status = delete_inf(Counter(konayuki_pitch_bigram))"
   ]
  },
  {
   "cell_type": "code",
   "execution_count": 350,
   "metadata": {
    "ExecuteTime": {
     "end_time": "2018-09-28T10:50:36.232182Z",
     "start_time": "2018-09-28T10:50:36.219290Z"
    },
    "collapsed": false,
    "scrolled": true
   },
   "outputs": [
    {
     "data": {
      "text/plain": [
       "Counter({nan: 1,\n",
       "         -7.0: 1,\n",
       "         -5.0: 2,\n",
       "         -4.0: 3,\n",
       "         -3.0: 6,\n",
       "         -2.0: 47,\n",
       "         -1.0: 15,\n",
       "         0.0: 32,\n",
       "         1.0: 10,\n",
       "         2.0: 36,\n",
       "         3.0: 14,\n",
       "         4.0: 9,\n",
       "         5.0: 10,\n",
       "         6.0: 1,\n",
       "         7.0: 1,\n",
       "         10.0: 1,\n",
       "         12.0: 1})"
      ]
     },
     "execution_count": 350,
     "metadata": {},
     "output_type": "execute_result"
    }
   ],
   "source": [
    "#バイグラム\n",
    "tsunami_pitch_bigram_status"
   ]
  },
  {
   "cell_type": "code",
   "execution_count": 424,
   "metadata": {
    "ExecuteTime": {
     "end_time": "2018-09-28T12:55:19.259991Z",
     "start_time": "2018-09-28T12:55:19.252014Z"
    },
    "collapsed": false,
    "scrolled": true
   },
   "outputs": [
    {
     "data": {
      "text/plain": [
       "Counter({-7.0: 1,\n",
       "         -5.0: 6,\n",
       "         -4.0: 20,\n",
       "         -3.0: 14,\n",
       "         -2.0: 16,\n",
       "         -1.0: 20,\n",
       "         0.0: 28,\n",
       "         1.0: 14,\n",
       "         2.0: 21,\n",
       "         3.0: 14,\n",
       "         4.0: 2,\n",
       "         5.0: 5,\n",
       "         9.0: 1})"
      ]
     },
     "execution_count": 424,
     "metadata": {},
     "output_type": "execute_result"
    }
   ],
   "source": [
    "#バイグラム\n",
    "guren_pitch_bigram_status"
   ]
  },
  {
   "cell_type": "code",
   "execution_count": 330,
   "metadata": {
    "ExecuteTime": {
     "end_time": "2018-09-28T10:32:58.558019Z",
     "start_time": "2018-09-28T10:32:58.550023Z"
    },
    "collapsed": false
   },
   "outputs": [
    {
     "data": {
      "text/plain": [
       "Counter({45.0: 4,\n",
       "         50.0: 12,\n",
       "         52.0: 11,\n",
       "         53.0: 2,\n",
       "         54.0: 20,\n",
       "         55.0: 17,\n",
       "         56.0: 3,\n",
       "         57.0: 35,\n",
       "         58.0: 4,\n",
       "         59.0: 29,\n",
       "         60.0: 1,\n",
       "         61.0: 9,\n",
       "         62.0: 29,\n",
       "         64.0: 24,\n",
       "         66.0: 15,\n",
       "         67.0: 2,\n",
       "         69.0: 1,\n",
       "         70.0: 1,\n",
       "         inf: 31})"
      ]
     },
     "execution_count": 330,
     "metadata": {},
     "output_type": "execute_result"
    }
   ],
   "source": [
    "tsunami_pitch_status = count_pitch(tsunami)\n",
    "tsunami_pitch_status"
   ]
  },
  {
   "cell_type": "code",
   "execution_count": 425,
   "metadata": {
    "ExecuteTime": {
     "end_time": "2018-09-28T12:55:55.500915Z",
     "start_time": "2018-09-28T12:55:55.490902Z"
    },
    "collapsed": false
   },
   "outputs": [
    {
     "data": {
      "text/plain": [
       "Counter({47.0: 1,\n",
       "         50.0: 16,\n",
       "         52.0: 21,\n",
       "         54.0: 20,\n",
       "         55.0: 54,\n",
       "         57.0: 27,\n",
       "         59.0: 25,\n",
       "         60.0: 3,\n",
       "         62.0: 12,\n",
       "         64.0: 12,\n",
       "         66.0: 7,\n",
       "         67.0: 13,\n",
       "         69.0: 4,\n",
       "         inf: 23})"
      ]
     },
     "execution_count": 425,
     "metadata": {},
     "output_type": "execute_result"
    }
   ],
   "source": [
    "guren_pitch_status = count_pitch(guren)\n",
    "guren_pitch_status\n",
    "konayuki_pitch_status = count_pitch(konayuki)\n",
    "konayuki_pitch_status"
   ]
  },
  {
   "cell_type": "code",
   "execution_count": 428,
   "metadata": {
    "ExecuteTime": {
     "end_time": "2018-09-28T12:56:26.546519Z",
     "start_time": "2018-09-28T12:56:26.300366Z"
    },
    "collapsed": false,
    "scrolled": true
   },
   "outputs": [
    {
     "name": "stderr",
     "output_type": "stream",
     "text": [
      "C:\\Users\\match\\Anaconda3\\lib\\site-packages\\matplotlib\\transforms.py:443: RuntimeWarning: invalid value encountered in double_scalars\n",
      "  return (x0, y0, x1 - x0, y1 - y0)\n"
     ]
    },
    {
     "data": {
      "image/png": "[encoded data removed]",
      "text/plain": [
       "<Figure size 432x288 with 1 Axes>"
      ]
     },
     "metadata": {
      "image/png": {
       "height": 250,
       "width": 370
      }
     },
     "output_type": "display_data"
    }
   ],
   "source": [
    "#音高の集計を可視化\n",
    "left = guren_pitch_status.keys()\n",
    "height = guren_pitch_status.values()\n",
    "plt.bar(left,height)\n",
    "plt.grid()"
   ]
  },
  {
   "cell_type": "code",
   "execution_count": 433,
   "metadata": {
    "ExecuteTime": {
     "end_time": "2018-09-28T13:02:09.156699Z",
     "start_time": "2018-09-28T13:02:08.914343Z"
    },
    "collapsed": false,
    "scrolled": true
   },
   "outputs": [
    {
     "name": "stderr",
     "output_type": "stream",
     "text": [
      "C:\\Users\\match\\Anaconda3\\lib\\site-packages\\matplotlib\\transforms.py:443: RuntimeWarning: invalid value encountered in double_scalars\n",
      "  return (x0, y0, x1 - x0, y1 - y0)\n"
     ]
    },
    {
     "data": {
      "image/png": "[encoded data removed]",
      "text/plain": [
       "<Figure size 432x288 with 1 Axes>"
      ]
     },
     "metadata": {
      "image/png": {
       "height": 250,
       "width": 370
      }
     },
     "output_type": "display_data"
    }
   ],
   "source": [
    "#音高の集計を可視化\n",
    "left = konayuki_pitch_status.keys()\n",
    "height = konayuki_pitch_status.values()\n",
    "plt.bar(left,height)\n",
    "plt.grid()"
   ]
  },
  {
   "cell_type": "code",
   "execution_count": 434,
   "metadata": {
    "ExecuteTime": {
     "end_time": "2018-09-28T13:02:25.387278Z",
     "start_time": "2018-09-28T13:02:25.120557Z"
    },
    "collapsed": false
   },
   "outputs": [
    {
     "data": {
      "text/plain": [
       "<BarContainer object of 20 artists>"
      ]
     },
     "execution_count": 434,
     "metadata": {},
     "output_type": "execute_result"
    },
    {
     "data": {
      "image/png": "[encoded data removed]",
      "text/plain": [
       "<Figure size 432x288 with 1 Axes>"
      ]
     },
     "metadata": {
      "image/png": {
       "height": 250,
       "width": 371
      }
     },
     "output_type": "display_data"
    }
   ],
   "source": [
    "#音高Bigramの集計を可視化\n",
    "left = konayuki_pitch_bigram_status.keys()\n",
    "height = konayuki_pitch_bigram_status.values()\n",
    "plt.grid()\n",
    "plt.bar(left,height)"
   ]
  },
  {
   "cell_type": "code",
   "execution_count": 435,
   "metadata": {
    "ExecuteTime": {
     "end_time": "2018-09-28T13:02:44.374421Z",
     "start_time": "2018-09-28T13:02:44.367400Z"
    },
    "collapsed": false
   },
   "outputs": [
    {
     "data": {
      "text/plain": [
       "0.17412935323383086"
      ]
     },
     "execution_count": 435,
     "metadata": {},
     "output_type": "execute_result"
    }
   ],
   "source": [
    "#TSUNAMIの跳躍\n",
    "jump_rate(konayuki_pitch_bigram_status)"
   ]
  },
  {
   "cell_type": "code",
   "execution_count": null,
   "metadata": {
    "collapsed": true
   },
   "outputs": [],
   "source": []
  }
 ],
 "metadata": {
  "kernelspec": {
   "display_name": "Python 3",
   "language": "python",
   "name": "python3"
  },
  "language_info": {
   "codemirror_mode": {
    "name": "ipython",
    "version": 3
   },
   "file_extension": ".py",
   "mimetype": "text/x-python",
   "name": "python",
   "nbconvert_exporter": "python",
   "pygments_lexer": "ipython3",
   "version": "3.6.6"
  }
 },
 "nbformat": 4,
 "nbformat_minor": 2
}
