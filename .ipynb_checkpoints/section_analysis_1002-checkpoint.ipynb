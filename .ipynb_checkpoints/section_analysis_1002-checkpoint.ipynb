{
 "cells": [
  {
   "cell_type": "code",
   "execution_count": 28,
   "metadata": {
    "ExecuteTime": {
     "end_time": "2018-10-03T23:01:35.276072Z",
     "start_time": "2018-10-03T23:01:35.270091Z"
    },
    "collapsed": true
   },
   "outputs": [],
   "source": [
    "import music21 as m21\n",
    "from music21 import * \n",
    "import matplotlib.pylab as plt\n",
    "import numpy as np\n",
    "import pandas as pd\n",
    "from collections import Counter\n"
   ]
  },
  {
   "cell_type": "code",
   "execution_count": 29,
   "metadata": {
    "ExecuteTime": {
     "end_time": "2018-10-03T23:01:35.719607Z",
     "start_time": "2018-10-03T23:01:35.693641Z"
    },
    "collapsed": true
   },
   "outputs": [],
   "source": [
    "def shuukei(vocalpart):\n",
    "    \"\"\"\n",
    "    音価・音高のペアのオブジェクトを楽譜から作る\n",
    "    タイの部分→連結\n",
    "\n",
    "    \"\"\"\n",
    "    record = []\n",
    "    checker = False\n",
    "    #タイがついた場合の途中記録用\n",
    "    pitch_tmp = 0.0\n",
    "    duration_tmp = 0.0\n",
    "    for i in vocalpart.flat.notesAndRests.stream():\n",
    "        \n",
    "        #タイがついている\n",
    "        if i.tie:\n",
    "            #タイのはじめの音ならまず音高を記録する\n",
    "            if checker == False:\n",
    "                if i.isNote == True:\n",
    "                    #record.append([i.pitch.ps,i.duration.quarterLength])\n",
    "                    #音符はノート番号\n",
    "                    pitch_tmp = i.pitch.ps\n",
    "                    duration_tmp += i.duration.quarterLength\n",
    "                elif i.isRest == True:\n",
    "                    #record.append([\"rest\",i.duration.quarterLength])\n",
    "                    #休符は無限にする\n",
    "                    pitch_tmp = np.inf\n",
    "                    duration_tmp += i.duration.quarterLength\n",
    "                \n",
    "            #タイの途中の音なら音長を足していく      \n",
    "            else:\n",
    "                duration_tmp += i.duration.quarterLength\n",
    "            \n",
    "            #タイはついている   \n",
    "            checker = True\n",
    "        \n",
    "        #タイがついてない    \n",
    "        else:\n",
    "            checker = False\n",
    "            #直前がタイの最後の音ならタイでつながって一音になった音を追加\n",
    "            if not duration_tmp == 0.0:\n",
    "                record.append([pitch_tmp,duration_tmp])\n",
    "                duration_tmp = 0.0\n",
    "            \n",
    "            #そうでなければ普通に追加\n",
    "            if i.isNote == True:\n",
    "                record.append([i.pitch.ps,i.duration.quarterLength])\n",
    "            elif i.isRest == True:\n",
    "                record.append([np.inf,i.duration.quarterLength])\n",
    "\n",
    "    return record"
   ]
  },
  {
   "cell_type": "code",
   "execution_count": 30,
   "metadata": {
    "ExecuteTime": {
     "end_time": "2018-10-03T23:01:36.404852Z",
     "start_time": "2018-10-03T23:01:36.398859Z"
    },
    "collapsed": true
   },
   "outputs": [],
   "source": [
    "def count_duration(song):\n",
    "    #[音高,音価]が要素になったリストから音価を集計する\n",
    "    lis = []\n",
    "    for n in range(len(song)):\n",
    "        lis.append(song[n][1])\n",
    "    duration_count = Counter(lis)\n",
    "    #集計結果のカウンターを返す\n",
    "    sorted_count = sorted(duration_count.items(),key=lambda x:x[0])\n",
    "    return sorted_count\n",
    "    "
   ]
  },
  {
   "cell_type": "code",
   "execution_count": 31,
   "metadata": {
    "ExecuteTime": {
     "end_time": "2018-10-03T23:01:36.981750Z",
     "start_time": "2018-10-03T23:01:36.974769Z"
    },
    "collapsed": false
   },
   "outputs": [],
   "source": [
    "def count_pitch(song):\n",
    "    #[音高,音価]が要素になったリストから音高を集計する\n",
    "    lis = []\n",
    "    for n in range(len(song)):\n",
    "        lis.append(song[n][0])\n",
    "    pitch_count = Counter(lis)\n",
    "    #集計結果のカウンターを返す\n",
    "    return pitch_count"
   ]
  },
  {
   "cell_type": "code",
   "execution_count": 32,
   "metadata": {
    "ExecuteTime": {
     "end_time": "2018-10-03T23:01:37.420776Z",
     "start_time": "2018-10-03T23:01:37.413755Z"
    },
    "collapsed": false
   },
   "outputs": [],
   "source": [
    "def make_pitch_bigram(shuukei_obj):\n",
    "    #[音高,音価]が要素になったリストから音高のBigramのリストを作成する\n",
    "    pitch_diff = []\n",
    "    for i in range(len(shuukei_obj)-1):\n",
    "        pitch_diff.append(shuukei_obj[i+1][0] - shuukei_obj[i][0])\n",
    "    return pitch_diff"
   ]
  },
  {
   "cell_type": "code",
   "execution_count": 33,
   "metadata": {
    "ExecuteTime": {
     "end_time": "2018-10-03T23:01:37.689420Z",
     "start_time": "2018-10-03T23:01:37.681442Z"
    },
    "collapsed": true
   },
   "outputs": [],
   "source": [
    "def make_duration_bigram(shuukei_obj):\n",
    "    #[音高,音価]が要素になったリストから音価のBigramのリストを作成する\n",
    "    duration_diff = []\n",
    "    for i in range(len(shuukei_obj)-1):\n",
    "        duration_diff.append(shuukei_obj[i+1][1] - shuukei_obj[i][1])\n",
    "    return duration_diff"
   ]
  },
  {
   "cell_type": "code",
   "execution_count": 34,
   "metadata": {
    "ExecuteTime": {
     "end_time": "2018-10-03T23:01:38.104728Z",
     "start_time": "2018-10-03T23:01:38.092760Z"
    },
    "collapsed": true
   },
   "outputs": [],
   "source": [
    "def jump_rate(bigram_status):\n",
    "    #バイグラム列から跳躍、下降跳躍、上向跳躍の割合を返す\n",
    "    up_jump = 0\n",
    "    down_jump = 0\n",
    "    slope = 0 \n",
    "    for key in bigram_status.keys():\n",
    "        if np.abs(key) <= 2:\n",
    "            slope += bigram_status[key]\n",
    "        elif np.abs(key) <= 10000:\n",
    "            if key > 0:\n",
    "            \tup_jump += bigram_status[key]\n",
    "            else:\n",
    "                down_jump += bigram_status[key]\n",
    "    all_of_notes = up_jump + down_jump + slope\n",
    "    \n",
    "    return set((up_jump+down_jump)/all_of_notes,up_jump/all_of_notes,down_jump/all_of_notes)          "
   ]
  },
  {
   "cell_type": "code",
   "execution_count": 35,
   "metadata": {
    "ExecuteTime": {
     "end_time": "2018-10-03T23:01:38.564681Z",
     "start_time": "2018-10-03T23:01:38.558707Z"
    },
    "collapsed": true
   },
   "outputs": [],
   "source": [
    "def delete_inf(bigram_status): \n",
    "    #休符を含むBigramから休符を削除\n",
    "    del bigram_status[np.inf]\n",
    "    del bigram_status[-np.inf]\n",
    "    return bigram_status"
   ]
  },
  {
   "cell_type": "code",
   "execution_count": 49,
   "metadata": {
    "ExecuteTime": {
     "end_time": "2018-10-03T23:21:39.980733Z",
     "start_time": "2018-10-03T23:21:39.973713Z"
    },
    "collapsed": false
   },
   "outputs": [],
   "source": [
    "def counter_plot(counter,song,section,analysee_name):\n",
    "    left = counter.keys()\n",
    "    height = counter.values()\n",
    "    plt.title(\"song: {} ({}'s {})\".format(song,section,analysee_name))\n",
    "    plt.bar(left,height)\n",
    "    plt.grid()\n",
    "    plt.show()"
   ]
  },
  {
   "cell_type": "code",
   "execution_count": null,
   "metadata": {
    "collapsed": true
   },
   "outputs": [],
   "source": []
  },
  {
   "cell_type": "markdown",
   "metadata": {},
   "source": [
    "### チェリー\n",
    "\n",
    "+ 全般的な集計\n",
    "+ セクション（Aメロ、Bメロ、サビ）ごとの集計\n",
    "+ アンケートの結果\n",
    "+ 考察\n"
   ]
  },
  {
   "cell_type": "code",
   "execution_count": 50,
   "metadata": {
    "ExecuteTime": {
     "end_time": "2018-10-03T23:21:46.071162Z",
     "start_time": "2018-10-03T23:21:45.416398Z"
    },
    "collapsed": false
   },
   "outputs": [
    {
     "data": {
      "image/png": "[encoded data removed]",
      "text/plain": [
       "<Figure size 432x288 with 1 Axes>"
      ]
     },
     "metadata": {
      "image/png": {
       "height": 263,
       "width": 370
      }
     },
     "output_type": "display_data"
    },
    {
     "data": {
      "image/png": "[encoded data removed]",
      "text/plain": [
       "<Figure size 432x288 with 1 Axes>"
      ]
     },
     "metadata": {
      "image/png": {
       "height": 263,
       "width": 370
      }
     },
     "output_type": "display_data"
    },
    {
     "data": {
      "image/png": "[encoded data removed]",
      "text/plain": [
       "<Figure size 432x288 with 1 Axes>"
      ]
     },
     "metadata": {
      "image/png": {
       "height": 263,
       "width": 370
      }
     },
     "output_type": "display_data"
    }
   ],
   "source": [
    "#楽譜の読み込み\n",
    "cherry = m21.converter.parse(\"./cherry.xml\").parts[0]\n",
    "#各セクションに分ける\n",
    "cherry_section = []\n",
    "cherry_a = cherry.measures(1,8)\n",
    "cherry_b = cherry.measures(9,16)\n",
    "cherry_s = cherry.measures(16,24)\n",
    "\n",
    "cherry_section.append(cherry_a)\n",
    "cherry_section.append(cherry_b)\n",
    "cherry_section.append(cherry_s)\n",
    "#音高,音価の列のオブジェクトを作成\n",
    "cherry_section_notes = []\n",
    "for item in cherry_section:\n",
    "    notes = shuukei(item)\n",
    "    cherry_section_notes.append(notes)\n",
    "#音高Bigramを作成\n",
    "cherry_ontei = []\n",
    "for item in cherry_section_notes:\n",
    "    bigram = make_pitch_bigram(item)\n",
    "    onteiobj = delete_inf(Counter(bigram))\n",
    "    cherry_ontei.append(onteiobj)\n",
    "#音高差の集計をプロット\n",
    "for num,item in enumerate(cherry_ontei):\n",
    "    counter_plot(item,\"cherry\",str(analysis_section[num]),\"pitch_diff\")\n",
    "    "
   ]
  },
  {
   "cell_type": "code",
   "execution_count": 40,
   "metadata": {
    "ExecuteTime": {
     "end_time": "2018-10-03T23:12:57.959886Z",
     "start_time": "2018-10-03T23:12:57.945886Z"
    },
    "collapsed": false
   },
   "outputs": [
    {
     "data": {
      "text/plain": [
       "[Counter({-5.0: 1,\n",
       "          -3.0: 1,\n",
       "          -2.0: 5,\n",
       "          -1.0: 2,\n",
       "          0.0: 15,\n",
       "          1.0: 3,\n",
       "          2.0: 7,\n",
       "          3.0: 1,\n",
       "          4.0: 1,\n",
       "          5.0: 1}),\n",
       " Counter({-5.0: 2,\n",
       "          -3.0: 2,\n",
       "          -2.0: 5,\n",
       "          -1.0: 2,\n",
       "          0.0: 14,\n",
       "          1.0: 5,\n",
       "          2.0: 9,\n",
       "          4.0: 1,\n",
       "          5.0: 1}),\n",
       " Counter({-3.0: 2,\n",
       "          -2.0: 16,\n",
       "          -1.0: 3,\n",
       "          0.0: 10,\n",
       "          1.0: 1,\n",
       "          2.0: 4,\n",
       "          3.0: 4,\n",
       "          4.0: 5})]"
      ]
     },
     "execution_count": 40,
     "metadata": {},
     "output_type": "execute_result"
    }
   ],
   "source": []
  },
  {
   "cell_type": "code",
   "execution_count": 39,
   "metadata": {
    "ExecuteTime": {
     "end_time": "2018-10-03T23:02:33.134056Z",
     "start_time": "2018-10-03T23:02:33.114107Z"
    },
    "collapsed": false
   },
   "outputs": [
    {
     "name": "stdout",
     "output_type": "stream",
     "text": [
      "25\n"
     ]
    },
    {
     "ename": "NameError",
     "evalue": "name 'section' is not defined",
     "output_type": "error",
     "traceback": [
      "\u001b[0;31m---------------------------------------------------------------------------\u001b[0m",
      "\u001b[0;31mNameError\u001b[0m                                 Traceback (most recent call last)",
      "\u001b[0;32m<ipython-input-39-dd2c7e3444a9>\u001b[0m in \u001b[0;36m<module>\u001b[0;34m()\u001b[0m\n\u001b[1;32m      2\u001b[0m \u001b[0manalysis_section\u001b[0m \u001b[1;33m=\u001b[0m \u001b[1;33m{\u001b[0m\u001b[1;36m0\u001b[0m\u001b[1;33m:\u001b[0m\u001b[1;34m\"Amelody\"\u001b[0m\u001b[1;33m,\u001b[0m\u001b[1;36m1\u001b[0m\u001b[1;33m:\u001b[0m\u001b[1;34m\"Bmelody\"\u001b[0m\u001b[1;33m,\u001b[0m\u001b[1;36m2\u001b[0m\u001b[1;33m:\u001b[0m\u001b[1;34m\"Sabi\"\u001b[0m\u001b[1;33m}\u001b[0m\u001b[1;33m\u001b[0m\u001b[0m\n\u001b[1;32m      3\u001b[0m \u001b[0mprint\u001b[0m\u001b[1;33m(\u001b[0m\u001b[0mlen\u001b[0m\u001b[1;33m(\u001b[0m\u001b[0mcherry\u001b[0m\u001b[1;33m)\u001b[0m\u001b[1;33m)\u001b[0m\u001b[1;33m\u001b[0m\u001b[0m\n\u001b[0;32m----> 4\u001b[0;31m \u001b[0mprint\u001b[0m\u001b[1;33m(\u001b[0m\u001b[0manalysis\u001b[0m\u001b[1;33m.\u001b[0m\u001b[0mdiscrete\u001b[0m\u001b[1;33m.\u001b[0m\u001b[0manalyzeStream\u001b[0m\u001b[1;33m(\u001b[0m\u001b[0msection\u001b[0m\u001b[1;33m,\u001b[0m\u001b[1;34m\"Krumhansl\"\u001b[0m\u001b[1;33m)\u001b[0m\u001b[1;33m)\u001b[0m\u001b[1;33m\u001b[0m\u001b[0m\n\u001b[0m\u001b[1;32m      5\u001b[0m \u001b[1;32mfor\u001b[0m \u001b[0mnum\u001b[0m\u001b[1;33m,\u001b[0m\u001b[0msection\u001b[0m \u001b[1;32min\u001b[0m \u001b[0menumerate\u001b[0m\u001b[1;33m(\u001b[0m\u001b[0mcherry_section\u001b[0m\u001b[1;33m)\u001b[0m\u001b[1;33m:\u001b[0m\u001b[1;33m\u001b[0m\u001b[0m\n\u001b[1;32m      6\u001b[0m     \u001b[0mprint\u001b[0m\u001b[1;33m(\u001b[0m\u001b[0msection\u001b[0m\u001b[1;33m)\u001b[0m\u001b[1;33m\u001b[0m\u001b[0m\n",
      "\u001b[0;31mNameError\u001b[0m: name 'section' is not defined"
     ]
    }
   ],
   "source": [
    "#調,音符数,跳躍率\n",
    "analysis_section = {0:\"Amelody\",1:\"Bmelody\",2:\"Sabi\"}\n",
    "print(len(cherry))\n",
    "print(analysis.discrete.analyzeStream(section,\"Krumhansl\"))\n",
    "for num,section in enumerate(cherry_section):\n",
    "    print(section)\n",
    "    print(\"-------{}の統計情報---------\".format(analysis_section[num]))\n",
    "    print(\"調:{}\".format(analysis.discrete.analyzeStream(section,\"Krumhansl\")))\n",
    "    "
   ]
  },
  {
   "cell_type": "code",
   "execution_count": null,
   "metadata": {
    "collapsed": true
   },
   "outputs": [],
   "source": []
  },
  {
   "cell_type": "code",
   "execution_count": null,
   "metadata": {
    "collapsed": true
   },
   "outputs": [],
   "source": []
  }
 ],
 "metadata": {
  "kernelspec": {
   "display_name": "Python 3",
   "language": "python",
   "name": "python3"
  },
  "language_info": {
   "codemirror_mode": {
    "name": "ipython",
    "version": 3
   },
   "file_extension": ".py",
   "mimetype": "text/x-python",
   "name": "python",
   "nbconvert_exporter": "python",
   "pygments_lexer": "ipython3",
   "version": "3.6.6"
  }
 },
 "nbformat": 4,
 "nbformat_minor": 2
}
