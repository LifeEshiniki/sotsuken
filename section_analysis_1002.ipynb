{
 "cells": [
  {
   "cell_type": "code",
   "execution_count": 1,
   "metadata": {
    "ExecuteTime": {
     "end_time": "2018-10-02T16:01:41.526837Z",
     "start_time": "2018-10-02T16:01:38.887296Z"
    },
    "collapsed": true
   },
   "outputs": [],
   "source": [
    "import music21 as m21\n",
    "from music21 import * \n",
    "import matplotlib.pylab as plt\n",
    "import numpy as np\n",
    "import pandas as pd\n",
    "from collections import Counter\n"
   ]
  },
  {
   "cell_type": "code",
   "execution_count": 2,
   "metadata": {
    "ExecuteTime": {
     "end_time": "2018-10-02T16:05:20.737856Z",
     "start_time": "2018-10-02T16:05:20.697647Z"
    },
    "collapsed": true
   },
   "outputs": [],
   "source": [
    "def shuukei(vocalpart):\n",
    "    \"\"\"\n",
    "    音価・音高のペアのオブジェクトを楽譜から作る\n",
    "    タイの部分→連結\n",
    "\n",
    "    \"\"\"\n",
    "    record = []\n",
    "    checker = False\n",
    "    #タイがついた場合の途中記録用\n",
    "    pitch_tmp = 0.0\n",
    "    duration_tmp = 0.0\n",
    "    for i in vocalpart.flat.notesAndRests.stream():\n",
    "        \n",
    "        #タイがついている\n",
    "        if i.tie:\n",
    "            #タイのはじめの音ならまず音高を記録する\n",
    "            if checker == False:\n",
    "                if i.isNote == True:\n",
    "                    #record.append([i.pitch.ps,i.duration.quarterLength])\n",
    "                    #音符はノート番号\n",
    "                    pitch_tmp = i.pitch.ps\n",
    "                    duration_tmp += i.duration.quarterLength\n",
    "                elif i.isRest == True:\n",
    "                    #record.append([\"rest\",i.duration.quarterLength])\n",
    "                    #休符は無限にする\n",
    "                    pitch_tmp = np.inf\n",
    "                    duration_tmp += i.duration.quarterLength\n",
    "                \n",
    "            #タイの途中の音なら音長を足していく      \n",
    "            else:\n",
    "                duration_tmp += i.duration.quarterLength\n",
    "            \n",
    "            #タイはついている   \n",
    "            checker = True\n",
    "        \n",
    "        #タイがついてない    \n",
    "        else:\n",
    "            checker = False\n",
    "            #直前がタイの最後の音ならタイでつながって一音になった音を追加\n",
    "            if not duration_tmp == 0.0:\n",
    "                record.append([pitch_tmp,duration_tmp])\n",
    "                duration_tmp = 0.0\n",
    "            \n",
    "            #そうでなければ普通に追加\n",
    "            if i.isNote == True:\n",
    "                record.append([i.pitch.ps,i.duration.quarterLength])\n",
    "            elif i.isRest == True:\n",
    "                record.append([np.inf,i.duration.quarterLength])\n",
    "\n",
    "    return record"
   ]
  },
  {
   "cell_type": "code",
   "execution_count": 4,
   "metadata": {
    "ExecuteTime": {
     "end_time": "2018-10-02T16:06:05.224469Z",
     "start_time": "2018-10-02T16:06:05.213267Z"
    },
    "collapsed": true
   },
   "outputs": [],
   "source": [
    "def count_duration(song):\n",
    "    #[音高,音価]が要素になったリストから音価を集計する\n",
    "    lis = []\n",
    "    for n in range(len(song)):\n",
    "        lis.append(song[n][1])\n",
    "    duration_count = Counter(lis)\n",
    "    #集計結果のカウンターを返す\n",
    "    return duration_count\n",
    "    "
   ]
  },
  {
   "cell_type": "code",
   "execution_count": 5,
   "metadata": {
    "ExecuteTime": {
     "end_time": "2018-10-02T16:06:44.249712Z",
     "start_time": "2018-10-02T16:06:44.238481Z"
    },
    "collapsed": true
   },
   "outputs": [],
   "source": [
    "def count_pitch(song):\n",
    "    #[音高,音価]が要素になったリストから音高を集計する\n",
    "    lis = []\n",
    "    for n in range(len(song)):\n",
    "        lis.append(song[n][0])\n",
    "    pitch_count = Counter(lis)\n",
    "    #集計結果のカウンターを返す\n",
    "    return pitch_count\n"
   ]
  },
  {
   "cell_type": "code",
   "execution_count": 8,
   "metadata": {
    "ExecuteTime": {
     "end_time": "2018-10-02T16:07:22.682397Z",
     "start_time": "2018-10-02T16:07:22.668442Z"
    },
    "collapsed": false
   },
   "outputs": [],
   "source": [
    "def make_pitch_bigram(shuukei_obj):\n",
    "    #[音高,音価]が要素になったリストから音高のBigramのリストを作成する\n",
    "    pitch_diff = []\n",
    "    for i in range(len(shuukei_obj)-1):\n",
    "        pitch_diff.append(int(shuukei_obj[i+1][0] - int(shuukei_obj[i][0])))\n",
    "    return pitch_diff"
   ]
  },
  {
   "cell_type": "code",
   "execution_count": null,
   "metadata": {
    "collapsed": true
   },
   "outputs": [],
   "source": [
    "def make_duration_bigram(shuukei_obj):\n",
    "    #[音高,音価]が要素になったリストから音高のBigramのリストを作成する\n",
    "    duration_diff = []\n",
    "    for i in range(len(shuukei_obj)-1):\n",
    "        duration_diff.append(shuukei_obj[i+1][1] - shuukei_obj[i][1]))\n",
    "    return duration_diff"
   ]
  },
  {
   "cell_type": "markdown",
   "metadata": {},
   "source": [
    "### チェリー\n",
    "\n",
    "+ 全般的な集計\n",
    "+ セクション（Aメロ、Bメロ、サビ）ごとの集計\n",
    "+ アンケートの結果\n",
    "+ 考察\n"
   ]
  },
  {
   "cell_type": "code",
   "execution_count": null,
   "metadata": {
    "collapsed": true
   },
   "outputs": [],
   "source": []
  }
 ],
 "metadata": {
  "kernelspec": {
   "display_name": "Python 3",
   "language": "python",
   "name": "python3"
  },
  "language_info": {
   "codemirror_mode": {
    "name": "ipython",
    "version": 3
   },
   "file_extension": ".py",
   "mimetype": "text/x-python",
   "name": "python",
   "nbconvert_exporter": "python",
   "pygments_lexer": "ipython3",
   "version": "3.6.6"
  }
 },
 "nbformat": 4,
 "nbformat_minor": 2
}
