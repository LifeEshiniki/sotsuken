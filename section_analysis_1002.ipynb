{
 "cells": [
  {
   "cell_type": "code",
   "execution_count": 19,
   "metadata": {
    "ExecuteTime": {
     "end_time": "2018-10-06T19:48:27.220393Z",
     "start_time": "2018-10-06T19:48:27.210388Z"
    },
    "collapsed": true
   },
   "outputs": [],
   "source": [
    "import music21 as m21\n",
    "from music21 import * \n",
    "import matplotlib.pylab as plt\n",
    "import numpy as np\n",
    "import pandas as pd\n",
    "from collections import Counter\n"
   ]
  },
  {
   "cell_type": "code",
   "execution_count": 20,
   "metadata": {
    "ExecuteTime": {
     "end_time": "2018-10-06T19:48:27.538149Z",
     "start_time": "2018-10-06T19:48:27.502550Z"
    },
    "collapsed": true
   },
   "outputs": [],
   "source": [
    "def shuukei(vocalpart):\n",
    "    \"\"\"\n",
    "    音価・音高のペアのオブジェクトを楽譜から作る\n",
    "    タイの部分→連結\n",
    "\n",
    "    \"\"\"\n",
    "    record = []\n",
    "    checker = False\n",
    "    #タイがついた場合の途中記録用\n",
    "    pitch_tmp = 0.0\n",
    "    duration_tmp = 0.0\n",
    "    for i in vocalpart.flat.notesAndRests.stream():\n",
    "        \n",
    "        #タイがついている\n",
    "        if i.tie:\n",
    "            #タイのはじめの音ならまず音高を記録する\n",
    "            if checker == False:\n",
    "                if i.isNote == True:\n",
    "                    #record.append([i.pitch.ps,i.duration.quarterLength])\n",
    "                    #音符はノート番号\n",
    "                    pitch_tmp = i.pitch.ps\n",
    "                    duration_tmp += i.duration.quarterLength\n",
    "                elif i.isRest == True:\n",
    "                    #record.append([\"rest\",i.duration.quarterLength])\n",
    "                    #休符は無限にする\n",
    "                    pitch_tmp = np.inf\n",
    "                    duration_tmp += i.duration.quarterLength\n",
    "                \n",
    "            #タイの途中の音なら音長を足していく      \n",
    "            else:\n",
    "                duration_tmp += i.duration.quarterLength\n",
    "            \n",
    "            #タイはついている   \n",
    "            checker = True\n",
    "        \n",
    "        #タイがついてない    \n",
    "        else:\n",
    "            checker = False\n",
    "            #直前がタイの最後の音ならタイでつながって一音になった音を追加\n",
    "            if not duration_tmp == 0.0:\n",
    "                record.append([pitch_tmp,duration_tmp])\n",
    "                duration_tmp = 0.0\n",
    "            \n",
    "            #そうでなければ普通に追加\n",
    "            if i.isNote == True:\n",
    "                record.append([i.pitch.ps,i.duration.quarterLength])\n",
    "            elif i.isRest == True:\n",
    "                record.append([np.inf,i.duration.quarterLength])\n",
    "\n",
    "    return record"
   ]
  },
  {
   "cell_type": "code",
   "execution_count": 21,
   "metadata": {
    "ExecuteTime": {
     "end_time": "2018-10-06T19:48:27.738145Z",
     "start_time": "2018-10-06T19:48:27.724849Z"
    },
    "collapsed": true
   },
   "outputs": [],
   "source": [
    "def count_duration(song):\n",
    "    #[音高,音価]が要素になったリストから音価を集計する\n",
    "    lis = []\n",
    "    for n in range(len(song)):\n",
    "        lis.append(song[n][1])\n",
    "    duration_count = Counter(lis)\n",
    "    #集計結果のカウンターを返す\n",
    "    #sorted_count = sorted(duration_count.items(),key=lambda x:x[0])\n",
    "    #return sorted_count\n",
    "    \n",
    "    return duration_count"
   ]
  },
  {
   "cell_type": "code",
   "execution_count": 22,
   "metadata": {
    "ExecuteTime": {
     "end_time": "2018-10-06T19:48:27.928066Z",
     "start_time": "2018-10-06T19:48:27.919092Z"
    },
    "collapsed": false
   },
   "outputs": [],
   "source": [
    "def count_pitch(song):\n",
    "    #[音高,音価]が要素になったリストから音高を集計する\n",
    "    lis = []\n",
    "    for n in range(len(song)):\n",
    "        lis.append(song[n][0])\n",
    "    pitch_count = Counter(lis)\n",
    "    #集計結果のカウンターを返す\n",
    "    return pitch_count"
   ]
  },
  {
   "cell_type": "code",
   "execution_count": 23,
   "metadata": {
    "ExecuteTime": {
     "end_time": "2018-10-06T19:48:28.138048Z",
     "start_time": "2018-10-06T19:48:28.126431Z"
    },
    "collapsed": false
   },
   "outputs": [],
   "source": [
    "def make_pitch_bigram(shuukei_obj):\n",
    "    #[音高,音価]が要素になったリストから音高のBigramのリストを作成する\n",
    "    pitch_diff = []\n",
    "    for i in range(len(shuukei_obj)-1):\n",
    "        if shuukei_obj[i+1][0] > 10000 and shuukei_obj[i][0] > 10000:\n",
    "        \tpass\n",
    "        else:\n",
    "            pitch_diff.append(shuukei_obj[i+1][0] - shuukei_obj[i][0])\n",
    "    return pitch_diff"
   ]
  },
  {
   "cell_type": "code",
   "execution_count": 24,
   "metadata": {
    "ExecuteTime": {
     "end_time": "2018-10-06T19:48:28.339925Z",
     "start_time": "2018-10-06T19:48:28.332055Z"
    },
    "collapsed": true
   },
   "outputs": [],
   "source": [
    "def make_duration_bigram(shuukei_obj):\n",
    "    #[音高,音価]が要素になったリストから音価のBigramのリストを作成する\n",
    "    duration_diff = []\n",
    "    for i in range(len(shuukei_obj)-1):\n",
    "        duration_diff.append(shuukei_obj[i+1][1] - shuukei_obj[i][1])\n",
    "    return duration_diff"
   ]
  },
  {
   "cell_type": "code",
   "execution_count": 25,
   "metadata": {
    "ExecuteTime": {
     "end_time": "2018-10-06T19:48:28.538245Z",
     "start_time": "2018-10-06T19:48:28.520428Z"
    },
    "collapsed": true
   },
   "outputs": [],
   "source": [
    "def jump_rate(bigram_status):\n",
    "    #バイグラム列から跳躍、下降跳躍、上向跳躍の割合を返す\n",
    "    up_jump = 0\n",
    "    down_jump = 0\n",
    "    slope = 0 \n",
    "    for key in bigram_status.keys():\n",
    "        if np.abs(key) <= 2:\n",
    "            slope += bigram_status[key]\n",
    "        elif np.abs(key) <= 10000:\n",
    "            if key > 0:\n",
    "            \tup_jump += bigram_status[key]\n",
    "            else:\n",
    "                down_jump += bigram_status[key]\n",
    "    all_of_notes = up_jump + down_jump + slope\n",
    "    \n",
    "    return set((up_jump+down_jump)/all_of_notes,up_jump/all_of_notes,down_jump/all_of_notes)          "
   ]
  },
  {
   "cell_type": "code",
   "execution_count": 26,
   "metadata": {
    "ExecuteTime": {
     "end_time": "2018-10-06T19:48:28.999664Z",
     "start_time": "2018-10-06T19:48:28.991184Z"
    },
    "collapsed": true
   },
   "outputs": [],
   "source": [
    "def delete_inf(bigram_status): \n",
    "    #休符を含むBigramから休符を削除\n",
    "    del bigram_status[np.inf]\n",
    "    del bigram_status[-np.inf]\n",
    "    del bigram_status[None]\n",
    "    return bigram_status"
   ]
  },
  {
   "cell_type": "code",
   "execution_count": 27,
   "metadata": {
    "ExecuteTime": {
     "end_time": "2018-10-06T19:48:29.480865Z",
     "start_time": "2018-10-06T19:48:29.465936Z"
    },
    "collapsed": true
   },
   "outputs": [],
   "source": [
    "#Aメロ,Bメロ,サビに分割\n",
    "#各セクションの始点と終点の小節番号を引数に与える\n",
    "def separate_section(piece,a_start,a_end,b_start,b_end,s_start,s_end):\n",
    "    sections = []\n",
    "    amero = piece.measures(a_start,a_end)\n",
    "    bmero = piece.measures(b_start,b_end)\n",
    "    sabi = piece.measures(s_start,s_end)\n",
    "        \n",
    "    print(sabi)\n",
    "    sections.append(amero)\n",
    "    sections.append(bmero)\n",
    "    sections.append(sabi)\n",
    "    \n",
    "    return sections"
   ]
  },
  {
   "cell_type": "code",
   "execution_count": 28,
   "metadata": {
    "ExecuteTime": {
     "end_time": "2018-10-06T19:48:29.781811Z",
     "start_time": "2018-10-06T19:48:29.766142Z"
    },
    "collapsed": false
   },
   "outputs": [],
   "source": [
    "#カウンターオブジェクトのプロット\n",
    "def counter_plot(counter,song,section,analysee_name,bar_color):\n",
    "    left = counter.keys()\n",
    "    height = counter.values()\n",
    "    plt.title(\"song: {} ({}'s {})\".format(song,section,analysee_name))\n",
    "    plt.bar(left,height,color=bar_color)\n",
    "    for x, y in zip(left, height):\n",
    "        try: \n",
    "            plt.text(x, y, y, ha='center', va='bottom')\n",
    "        except ValueError: \n",
    "            pass \n",
    "    plt.grid()\n",
    "    plt.show()"
   ]
  },
  {
   "cell_type": "code",
   "execution_count": 29,
   "metadata": {
    "ExecuteTime": {
     "end_time": "2018-10-06T19:48:30.161690Z",
     "start_time": "2018-10-06T19:48:30.155253Z"
    },
    "collapsed": true
   },
   "outputs": [],
   "source": [
    "#音高、音価のペアのリストをセクションごとに作成\n",
    "def make_note(sections):\n",
    "    notes = []\n",
    "    for item in sections:\n",
    "        note_obj = shuukei(item) \n",
    "        notes.append(note_obj)\n",
    "    return notes"
   ]
  },
  {
   "cell_type": "code",
   "execution_count": 30,
   "metadata": {
    "ExecuteTime": {
     "end_time": "2018-10-06T19:48:30.551375Z",
     "start_time": "2018-10-06T19:48:30.540947Z"
    },
    "collapsed": true
   },
   "outputs": [],
   "source": [
    "#セクションごとに音高、音価のペア列から音程列を作成\n",
    "def make_pitch_diff(notes):\n",
    "    ontei = []\n",
    "    for item in notes:\n",
    "        bigram = make_pitch_bigram(item)\n",
    "        onteiobj = delete_inf(Counter(bigram))\n",
    "        ontei.append(onteiobj)\n",
    "    return ontei"
   ]
  },
  {
   "cell_type": "markdown",
   "metadata": {},
   "source": [
    "## 予備実験概要\n",
    "\n",
    "実験参加者数　6人（21～24歳の男子６人、内音楽経験あり３人）\n",
    "実施楽曲　6曲＋α\n"
   ]
  },
  {
   "cell_type": "code",
   "execution_count": 35,
   "metadata": {
    "ExecuteTime": {
     "end_time": "2018-10-06T19:50:16.748152Z",
     "start_time": "2018-10-06T19:50:16.739254Z"
    },
    "collapsed": true
   },
   "outputs": [],
   "source": [
    "analysis_corpus = []\n",
    "analysis_section = {0:\"A melody\",1:\"B melody\",2:\"Sabi\"}"
   ]
  },
  {
   "cell_type": "markdown",
   "metadata": {
    "ExecuteTime": {
     "end_time": "2018-10-05T15:27:36.647892Z",
     "start_time": "2018-10-05T15:27:35.875002Z"
    },
    "collapsed": false
   },
   "source": [
    "## テストコード\n",
    "\n",
    "#楽譜の読み込み\n",
    "cherry = m21.converter.parse(\"./cherry.xml\").parts[0]\n",
    "#各セクションに分ける\n",
    "cherry_section = []\n",
    "cherry_a = cherry.measures(1,8)\n",
    "cherry_b = cherry.measures(9,16)\n",
    "cherry_s = cherry.measures(16,24)\n",
    "\n",
    "cherry_section.append(cherry_a)\n",
    "cherry_section.append(cherry_b)\n",
    "cherry_section.append(cherry_s)\n",
    "#音高,音価の列のオブジェクトを作成\n",
    "cherry_section_notes = []\n",
    "for item in cherry_section:\n",
    "    notes = shuukei(item)\n",
    "    cherry_section_notes.append(notes)\n",
    "#音高Bigramを作成\n",
    "cherry_ontei = []\n",
    "for item in cherry_section_notes:\n",
    "    bigram = make_pitch_bigram(item)\n",
    "    onteiobj = delete_inf(Counter(bigram))\n",
    "    cherry_ontei.append(onteiobj)\n",
    "#音高差の集計をプロット\n",
    "for num,item in enumerate(cherry_ontei):\n",
    "    counter_plot(item,\"cherry\",str(analysis_section[num]),\"pitch_diff\")\n",
    "#音高の集計\n",
    "for item in cherry_section:\n",
    "    item.plot(\"histogram\",\"pitch\")\n",
    "    item.plot(\"histogram\",\"pitchclass\") \n",
    "\n",
    "for num,item in enumerate(cherry_section_notes):\n",
    "    dcount = count_duration(item)\n",
    "    #print(dcount)\n",
    "    duras = {}\n",
    "    for i in sorted(dcount.keys()):\n",
    "        new_key = str(i)\n",
    "        duras[new_key] = dcount[i]\n",
    "    counter_plot(duras,\"cherry\",str(analysis_section[num]),\"duration by Quarter Length\")\n",
    "#調,音符数,跳躍率\n",
    "analysis_section = {0:\"Amelody\",1:\"Bmelody\",2:\"Sabi\"}\n",
    "print(len(cherry))\n",
    "print(analysis.discrete.analyzeStream(cherry,\"Krumhansl\"))\n",
    "for num,section in enumerate(cherry_section):\n",
    "    print(section)\n",
    "    print(\"-------{}の統計情報---------\".format(analysis_section[num]))\n",
    "    print(\"調:{}\".format(analysis.discrete.analyzeStream(section,\"Krumhansl\")))"
   ]
  },
  {
   "cell_type": "code",
   "execution_count": null,
   "metadata": {
    "ExecuteTime": {
     "end_time": "2018-10-05T11:10:15.288700Z",
     "start_time": "2018-10-05T11:10:11.119656Z"
    },
    "collapsed": false
   },
   "outputs": [],
   "source": []
  },
  {
   "cell_type": "code",
   "execution_count": null,
   "metadata": {
    "ExecuteTime": {
     "end_time": "2018-10-05T15:27:52.506497Z",
     "start_time": "2018-10-05T15:27:51.772041Z"
    },
    "collapsed": false,
    "scrolled": true
   },
   "outputs": [],
   "source": []
  },
  {
   "cell_type": "code",
   "execution_count": null,
   "metadata": {
    "ExecuteTime": {
     "end_time": "2018-10-05T16:00:19.892729Z",
     "start_time": "2018-10-05T16:00:19.886705Z"
    },
    "collapsed": false
   },
   "outputs": [],
   "source": []
  },
  {
   "cell_type": "code",
   "execution_count": 45,
   "metadata": {
    "ExecuteTime": {
     "end_time": "2018-10-06T19:57:37.560329Z",
     "start_time": "2018-10-06T19:57:37.492582Z"
    },
    "collapsed": false
   },
   "outputs": [],
   "source": [
    "class gakuhu_object:\n",
    "    \"\"\"\n",
    "    ボーカルパートのあらゆる情報を保持するクラス\n",
    "    \n",
    "    __init__(self,file)　\n",
    "    初期化、読み込む楽譜ファイルを与える\n",
    "    \n",
    "    separate_section(self,a_start,a_end,b_start,b_end,s_start,s_end) \n",
    "    A,B,サビに楽譜を分割、それぞれのセクションの始めの小節と終わりの小節の番号を与える\n",
    "    \"\"\"\n",
    "    \n",
    "    #コンストラクタ\n",
    "    def __init__(self,name,file,separate_info):\n",
    "        #楽曲名\n",
    "        self.name = name\n",
    "        #ボーカルパートを読み込み（一つ目のパートがボーカルである前提・・・）\n",
    "        self.piece = m21.converter.parse(\"./\" + file).parts[0]\n",
    "        #Aメロ、Bメロ、サビのオブジェクトを保持する\n",
    "        self.sections = separate_section(self.piece,separate_info[0],separate_info[1],separate_info[2],separate_info[3],separate_info[4],separate_info[5])\n",
    "        #音高、音列のペア\n",
    "        self.notes = make_note(self.sections)\n",
    "        #音程列\n",
    "        self.ontei = make_pitch_diff(self.notes)\n",
    "        \n",
    "        analysis_corpus.append(self)\n",
    "        \n",
    "    #調の表示\n",
    "    def show_key(self):\n",
    "        print(\"------------\"+self.name +\"-------------\")\n",
    "        for num,section in enumerate(self.sections):\n",
    "            print(\"-------{}の統計情報---------\".format(analysis_section[num]))\n",
    "            print(\"調:{}\".format(analysis.discrete.analyzeStream(section,\"Krumhansl\")))\n",
    "    \"\"\"\n",
    "    #音高、音価のペアのリストをセクションごとに作成\n",
    "    def make_note(self):\n",
    "        for item in self.sections:\n",
    "            note_obj = shuukei(item) \n",
    "            self.notes.append(note_obj)\n",
    "    \n",
    "    #音程列の作成\n",
    "    def make_pitch_diff(self):\n",
    "        for item in self.notes:\n",
    "            bigram = make_pitch_bigram(item)\n",
    "            onteiobj = delete_inf(Counter(bigram))\n",
    "            self.notes.append(onteiobj)\n",
    "    \"\"\"    \n",
    "    #音高のカウント\n",
    "    def counting_pitch(self):\n",
    "        for item in self.sections:\n",
    "            pitch_space = graph.plot.HistogramPitchSpace(item,xHideUnused=False)\n",
    "            pitch_space.colors = \"magenta\"\n",
    "            pitch_space.run()\n",
    "            pitch_class = graph.plot.Hi\n",
    "            #item.plot(\"histogram\",\"pitch\",xHideUnused=False)\n",
    "            #item.plot(\"histogram\",\"pitchclass\",xHideUnused=False) \n",
    "        \n",
    "    #音価のカウント\n",
    "    def counting_duration(self):\n",
    "        for num,item in enumerate(self.notes):\n",
    "            dcount = count_duration(item)\n",
    "            #print(dcount)\n",
    "            duras = {}\n",
    "            for i in sorted(dcount.keys()):\n",
    "                new_key = str(i)\n",
    "                duras[new_key] = dcount[i]\n",
    "            counter_plot(duras,self.name,str(analysis_section[num]),\"duration by Quarter Length\",\"g\")\n",
    "            \n",
    "    #音高差の集計をプロット\n",
    "    def plot_pitch_diff(self):\n",
    "        for num,item in enumerate(self.ontei):\n",
    "            counter_plot(item,self.name,str(analysis_section[num]),\"pitch_diff\",\"r\")\n",
    "        \n",
    "    #跳躍進行の割合を表示        \n",
    "    def calucurate_jump(self):\n",
    "        for sect in self.notes:\n",
    "            jump_status = jump_rate(sect)\n",
    "            print(jump_status)\n"
   ]
  },
  {
   "cell_type": "markdown",
   "metadata": {
    "ExecuteTime": {
     "end_time": "2018-10-05T15:19:48.509835Z",
     "start_time": "2018-10-05T15:19:43.885643Z"
    },
    "collapsed": false
   },
   "source": [
    "## 実際に6曲分、分析してみる\n",
    "\n"
   ]
  },
  {
   "cell_type": "code",
   "execution_count": 46,
   "metadata": {
    "ExecuteTime": {
     "end_time": "2018-10-06T19:57:41.232880Z",
     "start_time": "2018-10-06T19:57:38.599968Z"
    },
    "collapsed": false
   },
   "outputs": [
    {
     "name": "stdout",
     "output_type": "stream",
     "text": [
      "<music21.stream.Part トラック 0>\n",
      "<music21.stream.Part ピアノ>\n",
      "<music21.stream.PartStaff P1-Staff1>\n",
      "<music21.stream.Part ボーカル>\n",
      "<music21.stream.Part ボーカル>\n",
      "<music21.stream.Part Lead>\n"
     ]
    }
   ],
   "source": [
    "analysis_corpus = []\n",
    "cherry = gakuhu_object(\"Cherry\",\"cherry.xml\",[1,8,9,15,16,24])\n",
    "tsunami = gakuhu_object(\"TSUNAMI\",\"TSUNAMI.xml\",[1,16,17,25,25,42])\n",
    "roman = gakuhu_object(\"Roman Hikou\",\"roman.xml\",[1,8,9,16,16,29])\n",
    "aporo = gakuhu_object(\"Aporo\",\"aporo3.xml\",[20,34,35,43,44,59])\n",
    "guren = gakuhu_object(\"Guren No Yumiya\",\"guren.mxl\",[12,27,28,35,36,51])\n",
    "konayuki = gakuhu_object(\"Konayuki\",\"konayuki.mxl\",[5,26,27,37,37,45])\n"
   ]
  },
  {
   "cell_type": "code",
   "execution_count": 47,
   "metadata": {
    "ExecuteTime": {
     "end_time": "2018-10-06T19:57:42.427655Z",
     "start_time": "2018-10-06T19:57:41.235642Z"
    },
    "collapsed": false
   },
   "outputs": [
    {
     "name": "stdout",
     "output_type": "stream",
     "text": [
      "------------Cherry-------------\n",
      "-------A melodyの統計情報---------\n",
      "調:d minor\n",
      "-------B melodyの統計情報---------\n",
      "調:a minor\n",
      "-------Sabiの統計情報---------\n",
      "調:C major\n"
     ]
    },
    {
     "ename": "AttributeError",
     "evalue": "'NoneType' object has no attribute 'colors'",
     "output_type": "error",
     "traceback": [
      "\u001b[0;31m---------------------------------------------------------------------------\u001b[0m",
      "\u001b[0;31mAttributeError\u001b[0m                            Traceback (most recent call last)",
      "\u001b[0;32m<ipython-input-47-50a204e851ef>\u001b[0m in \u001b[0;36m<module>\u001b[0;34m()\u001b[0m\n\u001b[1;32m      1\u001b[0m \u001b[1;32mfor\u001b[0m \u001b[0msheets\u001b[0m \u001b[1;32min\u001b[0m \u001b[0manalysis_corpus\u001b[0m\u001b[1;33m:\u001b[0m\u001b[1;33m\u001b[0m\u001b[0m\n\u001b[1;32m      2\u001b[0m     \u001b[0msheets\u001b[0m\u001b[1;33m.\u001b[0m\u001b[0mshow_key\u001b[0m\u001b[1;33m(\u001b[0m\u001b[1;33m)\u001b[0m\u001b[1;33m\u001b[0m\u001b[0m\n\u001b[0;32m----> 3\u001b[0;31m     \u001b[0msheets\u001b[0m\u001b[1;33m.\u001b[0m\u001b[0mcounting_pitch\u001b[0m\u001b[1;33m(\u001b[0m\u001b[1;33m)\u001b[0m\u001b[1;33m\u001b[0m\u001b[0m\n\u001b[0m\u001b[1;32m      4\u001b[0m     \u001b[0mplt\u001b[0m\u001b[1;33m.\u001b[0m\u001b[0mfigure\u001b[0m\u001b[1;33m(\u001b[0m\u001b[1;33m)\u001b[0m\u001b[1;33m\u001b[0m\u001b[0m\n\u001b[1;32m      5\u001b[0m     \u001b[0msheets\u001b[0m\u001b[1;33m.\u001b[0m\u001b[0mcounting_duration\u001b[0m\u001b[1;33m(\u001b[0m\u001b[1;33m)\u001b[0m\u001b[1;33m\u001b[0m\u001b[0m\n",
      "\u001b[0;32m<ipython-input-45-c224cc3d2822>\u001b[0m in \u001b[0;36mcounting_pitch\u001b[0;34m(self)\u001b[0m\n\u001b[1;32m     49\u001b[0m         \u001b[1;32mfor\u001b[0m \u001b[0mitem\u001b[0m \u001b[1;32min\u001b[0m \u001b[0mself\u001b[0m\u001b[1;33m.\u001b[0m\u001b[0msections\u001b[0m\u001b[1;33m:\u001b[0m\u001b[1;33m\u001b[0m\u001b[0m\n\u001b[1;32m     50\u001b[0m \u001b[1;33m\u001b[0m\u001b[0m\n\u001b[0;32m---> 51\u001b[0;31m             \u001b[0mitem\u001b[0m\u001b[1;33m.\u001b[0m\u001b[0mplot\u001b[0m\u001b[1;33m(\u001b[0m\u001b[1;34m\"histogram\"\u001b[0m\u001b[1;33m,\u001b[0m\u001b[1;34m\"pitch\"\u001b[0m\u001b[1;33m,\u001b[0m\u001b[0mxHideUnused\u001b[0m\u001b[1;33m=\u001b[0m\u001b[1;32mFalse\u001b[0m\u001b[1;33m)\u001b[0m\u001b[1;33m.\u001b[0m\u001b[0mcolors\u001b[0m \u001b[1;33m=\u001b[0m \u001b[1;34m\"blue\"\u001b[0m\u001b[1;33m\u001b[0m\u001b[0m\n\u001b[0m\u001b[1;32m     52\u001b[0m             \u001b[0mitem\u001b[0m\u001b[1;33m.\u001b[0m\u001b[0mplot\u001b[0m\u001b[1;33m(\u001b[0m\u001b[1;34m\"histogram\"\u001b[0m\u001b[1;33m,\u001b[0m\u001b[1;34m\"pitchclass\"\u001b[0m\u001b[1;33m,\u001b[0m\u001b[0mxHideUnused\u001b[0m\u001b[1;33m=\u001b[0m\u001b[1;32mFalse\u001b[0m\u001b[1;33m)\u001b[0m\u001b[1;33m\u001b[0m\u001b[0m\n\u001b[1;32m     53\u001b[0m \u001b[1;33m\u001b[0m\u001b[0m\n",
      "\u001b[0;31mAttributeError\u001b[0m: 'NoneType' object has no attribute 'colors'"
     ]
    },
    {
     "data": {
      "image/png": "[encoded data removed]",
      "text/plain": [
       "<Figure size 720x432 with 1 Axes>"
      ]
     },
     "metadata": {
      "image/png": {
       "height": 382,
       "width": 585
      }
     },
     "output_type": "display_data"
    }
   ],
   "source": [
    "for sheets in analysis_corpus:\n",
    "    sheets.show_key()\n",
    "    sheets.counting_pitch()\n",
    "    plt.figure()\n",
    "    sheets.counting_duration()\n",
    "    plt.figure()\n",
    "    sheets.plot_pitch_diff()\n",
    "    "
   ]
  },
  {
   "cell_type": "code",
   "execution_count": null,
   "metadata": {
    "collapsed": true
   },
   "outputs": [],
   "source": []
  },
  {
   "cell_type": "markdown",
   "metadata": {},
   "source": [
    "\n"
   ]
  },
  {
   "cell_type": "markdown",
   "metadata": {
    "ExecuteTime": {
     "end_time": "2018-10-05T13:18:58.895879Z",
     "start_time": "2018-10-05T13:18:58.819480Z"
    },
    "collapsed": true
   },
   "source": [
    "\n"
   ]
  },
  {
   "cell_type": "code",
   "execution_count": null,
   "metadata": {
    "collapsed": true
   },
   "outputs": [],
   "source": []
  }
 ],
 "metadata": {
  "kernelspec": {
   "display_name": "Python 3",
   "language": "python",
   "name": "python3"
  },
  "language_info": {
   "codemirror_mode": {
    "name": "ipython",
    "version": 3
   },
   "file_extension": ".py",
   "mimetype": "text/x-python",
   "name": "python",
   "nbconvert_exporter": "python",
   "pygments_lexer": "ipython3",
   "version": "3.6.6"
  }
 },
 "nbformat": 4,
 "nbformat_minor": 2
}
